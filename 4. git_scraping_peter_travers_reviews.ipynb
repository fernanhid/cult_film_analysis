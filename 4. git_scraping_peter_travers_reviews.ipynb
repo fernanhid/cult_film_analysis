{
 "cells": [
  {
   "cell_type": "code",
   "execution_count": 44,
   "metadata": {
    "collapsed": false
   },
   "outputs": [],
   "source": [
    "import pandas as pd\n",
    "import requests\n",
    "from bs4 import BeautifulSoup as bf\n",
    "\n",
    "pd.options.mode.chained_assignment = None \n",
    "%matplotlib inline"
   ]
  },
  {
   "cell_type": "code",
   "execution_count": 7,
   "metadata": {
    "collapsed": false
   },
   "outputs": [],
   "source": [
    "urls = ['http://www.metacritic.com/critic/peter-travers?filter=movies&num_items=100&sort_options=metascore',\n",
    "        'http://www.metacritic.com/critic/peter-travers?filter=movies&num_items=100&sort_options=metascore&page=1'\n",
    "        'http://www.metacritic.com/critic/peter-travers?filter=movies&num_items=100&sort_options=metascore&page=4',\n",
    "        'http://www.metacritic.com/critic/peter-travers?filter=movies&num_items=100&sort_options=metascore&page=6',\n",
    "         'http://www.metacritic.com/critic/peter-travers?filter=movies&num_items=100&sort_options=metascore&page=11',\n",
    "         'http://www.metacritic.com/critic/peter-travers?filter=movies&num_items=100&sort_options=metascore&page=13',\n",
    "         'http://www.metacritic.com/critic/peter-travers?filter=movies&num_items=100&sort_options=metascore&page=17',\n",
    "         'http://www.metacritic.com/critic/peter-travers?filter=movies&num_items=100&sort_options=metascore&page=16']\n",
    "\n",
    "bf_list = []\n",
    "for url in urls:\n",
    "    request = requests.get(url, headers={'User-Agent': 'Mozilla/5.0 (Macintosh; Intel Mac OS X 10_11_5) AppleWebKit/537.36 (KHTML, like Gecko) Chrome/51.0.2704.103 Safari/537.36'})\n",
    "    bf_list.append(bf(request.text, \"lxml\"))"
   ]
  },
  {
   "cell_type": "code",
   "execution_count": 8,
   "metadata": {
    "collapsed": false
   },
   "outputs": [],
   "source": [
    "reviews = []\n",
    "movies = []\n",
    "for bf_obj in bf_list:\n",
    "    for i in range(len(bf_obj.find_all('li', class_=\"review_product_score brief_critscore\"))):\n",
    "        reviews.append(bf_obj.find_all('li', class_=\"review_product_score brief_critscore\")[i].find('span').text)\n",
    "        movies.append(bf_obj.find_all('div', class_=\"review_product\")[i].find('a').text)"
   ]
  },
  {
   "cell_type": "code",
   "execution_count": 9,
   "metadata": {
    "collapsed": false
   },
   "outputs": [
    {
     "data": {
      "text/plain": [
       "1700"
      ]
     },
     "execution_count": 9,
     "metadata": {},
     "output_type": "execute_result"
    }
   ],
   "source": [
    "peter_travers_reviews = pd.DataFrame(dict(reviews = reviews, movies = movies))\n",
    "len(peter_travers_reviews)"
   ]
  },
  {
   "cell_type": "code",
   "execution_count": 14,
   "metadata": {
    "collapsed": false
   },
   "outputs": [
    {
     "ename": "NameError",
     "evalue": "name 'peter_travers_reviews' is not defined",
     "output_type": "error",
     "traceback": [
      "\u001b[0;31m---------------------------------------------------------------------------\u001b[0m",
      "\u001b[0;31mNameError\u001b[0m                                 Traceback (most recent call last)",
      "\u001b[0;32m<ipython-input-14-15bf1bdfefbc>\u001b[0m in \u001b[0;36m<module>\u001b[0;34m()\u001b[0m\n\u001b[0;32m----> 1\u001b[0;31m \u001b[0mpeter_travers_reviews\u001b[0m\u001b[0;34m.\u001b[0m\u001b[0mto_pickle\u001b[0m\u001b[0;34m(\u001b[0m\u001b[0;34m'peter_travers_movie_names_x_reviews.pkl'\u001b[0m\u001b[0;34m)\u001b[0m\u001b[0;34m\u001b[0m\u001b[0m\n\u001b[0m",
      "\u001b[0;31mNameError\u001b[0m: name 'peter_travers_reviews' is not defined"
     ]
    }
   ],
   "source": [
    "peter_travers_reviews.to_pickle('peter_travers_movie_names_x_reviews.pkl')"
   ]
  },
  {
   "cell_type": "code",
   "execution_count": 3,
   "metadata": {
    "collapsed": false
   },
   "outputs": [],
   "source": [
    "from movies_module import imdb_clean "
   ]
  },
  {
   "cell_type": "code",
   "execution_count": null,
   "metadata": {
    "collapsed": true
   },
   "outputs": [],
   "source": [
    "#Using Selenium to Scrape IMDB\n",
    "\n",
    "chromedriver = \"/Users/Fernanhid/Downloads/chromedriver\"\n",
    "os.environ[\"webdriver.chrome.driver\"] = chromedriver\n",
    "\n",
    "\n",
    "driver = webdriver.Chrome(chromedriver)\n",
    "driver.get(\"http://www.imdb.com/title/tt0499549/?ref_=nv_sr_1\")\n",
    "travis_bf_list = []\n",
    "\n",
    "for title in peter_travers_reviews.movies:\n",
    "    try:\n",
    "        driver.find_element_by_id(\"navbar-query\").clear()\n",
    "        username_form = driver.find_element_by_id(\"navbar-query\")\n",
    "        username_form.send_keys(title)\n",
    "\n",
    "        username_form.send_keys(Keys.RETURN)\n",
    "        driver.implicitly_wait(20)\n",
    "        #driver.find_elements_by_xpath(\"//*[@class='result_text']\")[0].find_element_by_tag_name('a').click()\n",
    "        driver.find_element_by_xpath('//*[@id=\"main\"]/div/div[2]/table/tbody/tr[1]/td[2]/a').click()\n",
    "        driver.implicitly_wait(10)\n",
    "\n",
    "\n",
    "        #beautiful Soup Part\n",
    "\n",
    "        page = requests.get(driver.current_url)\n",
    "        page = bf(page.text)\n",
    "        travis_bf_list.append(page)\n",
    "    except:\n",
    "        driver.find_element_by_id(\"navbar-query\").clear()\n",
    "        username_form = driver.find_element_by_id(\"navbar-query\")\n",
    "        username_form.send_keys('Avatar')\n",
    "        username_form.send_keys(Keys.RETURN)\n"
   ]
  },
  {
   "cell_type": "code",
   "execution_count": null,
   "metadata": {
    "collapsed": true
   },
   "outputs": [],
   "source": [
    "#Having a Master Dictionary\n",
    "travis_dict_movie = {}\n",
    "\n",
    "#Iterating over the urls\n",
    "for i, movie in enumerate(travis_df.movie_titles):\n",
    "    try:\n",
    "        #storing the content for each movie\n",
    "        dict_content = {}\n",
    "        #Iterating over all the content of the movie\n",
    "        for div in  travis_bf_list[i].find('div', class_= 'article', id=\"titleDetails\").find_all('div'):\n",
    "            #Iterating Over Every part of the content\n",
    "            try:\n",
    "                #Preprosessing everyline\n",
    "                process =  div.text.replace('\\n', '').split(':')\n",
    "                #Seperating the title and value\n",
    "                key = process[0]\n",
    "                content = process[1]\n",
    "                #Adding the title and values in a dictionary\n",
    "                dict_content[key] = content\n",
    "            except:\n",
    "                pass\n",
    "    except:\n",
    "        pass\n",
    "    #Adding the content dictionary of one movie into the total dict\n",
    "    travis_dict_movie[movie] = dict_content"
   ]
  },
  {
   "cell_type": "markdown",
   "metadata": {},
   "source": [
    "## Features"
   ]
  },
  {
   "cell_type": "code",
   "execution_count": null,
   "metadata": {
    "collapsed": true
   },
   "outputs": [],
   "source": [
    "# Title\n",
    "\n",
    "travis_movies_df['title'] = travis_movies_df.movie_titles.apply(lambda x: x.split('(')[0].strip())"
   ]
  },
  {
   "cell_type": "code",
   "execution_count": null,
   "metadata": {
    "collapsed": true
   },
   "outputs": [],
   "source": [
    "# Annual Gross\n",
    "\n",
    "gross = []\n",
    "for title in travis_movies_df.movie_titles:\n",
    "    try:\n",
    "        gross.append(imdb_clean.clean_cash(travis_dict_movie[title]['Gross']))\n",
    "    except:\n",
    "        gross.append('NaN')\n",
    "\n",
    "travis_movies_df['gross'] = gross"
   ]
  },
  {
   "cell_type": "code",
   "execution_count": 12,
   "metadata": {
    "collapsed": false
   },
   "outputs": [],
   "source": [
    "# Release Date\n",
    "\n",
    "release_date = []\n",
    "for title in travis_movies_df.movie_titles:\n",
    "    try:\n",
    "        release_date.append(imdb_clean.clean_release(travis_dict_movie[title]['Release Date']))\n",
    "    except:\n",
    "        release_date.append('NaN')\n",
    "        \n",
    "travis_movies_df['release_date'] = release_date"
   ]
  },
  {
   "cell_type": "code",
   "execution_count": null,
   "metadata": {
    "collapsed": true
   },
   "outputs": [],
   "source": [
    "# Opening Weekend\n",
    "\n",
    "opening_weekend = []\n",
    "for title in travis_movies_df.movie_titles:\n",
    "    try:\n",
    "        opening_weekend.append(imdb_clean.clean_cash(travis_dict_movie[title]['Opening Weekend']))\n",
    "    except:\n",
    "        opening_weekend.append('NaN')\n",
    "        \n",
    "travis_movies_df['opening_weekend'] = opening_weekend"
   ]
  },
  {
   "cell_type": "code",
   "execution_count": null,
   "metadata": {
    "collapsed": true
   },
   "outputs": [],
   "source": [
    "# Runtime\n",
    "\n",
    "run_time = []\n",
    "for title in travis_movies_df.movie_titles:\n",
    "    try:\n",
    "        run_time.append(imdb_clean.clean_runtime(travis_dict_movie[title]['Runtime']))\n",
    "    except:\n",
    "        run_time.append('NaN')\n",
    "        \n",
    "travis_movies_df['run_time'] = run_time\n"
   ]
  },
  {
   "cell_type": "code",
   "execution_count": null,
   "metadata": {
    "collapsed": true
   },
   "outputs": [],
   "source": [
    "# Production Companies\n",
    "\n",
    "prod_companies = []\n",
    "for title in travis_movies_df.movie_titles:\n",
    "    try:\n",
    "        prod_companies.append(travis_dict_movie[title]['Production Co'])\n",
    "    except:\n",
    "        prod_companies.append('NaN')\n",
    "        \n",
    "travis_movies_df['production'] = prod_companies"
   ]
  },
  {
   "cell_type": "code",
   "execution_count": null,
   "metadata": {
    "collapsed": true
   },
   "outputs": [],
   "source": [
    "# Budget\n",
    "\n",
    "budget = []\n",
    "for title in travis_movies_df.movie_titles:\n",
    "    try:\n",
    "        budget.append(imdb_clean.clean_cash(travis_dict_movie[title]['Budget']))\n",
    "    except:\n",
    "        budget.append('NaN')\n",
    "        \n",
    "travis_movies_df['budget'] = budget"
   ]
  },
  {
   "cell_type": "code",
   "execution_count": null,
   "metadata": {
    "collapsed": true
   },
   "outputs": [],
   "source": [
    "# Country\n",
    "\n",
    "country = []\n",
    "for title in travis_movies_df.movie_titles:\n",
    "    try:\n",
    "        country.append(imdb_clean.clean_country(travis_dict_movie[title]['Country']))\n",
    "    except:\n",
    "        country.append('NaN')\n",
    "\n",
    "travis_movies_df['country'] = country\n",
    "\n",
    "travis_movies_df['usa_dummy'] = [1 if i == 'USA' else 0 for i in travis_movies_df.country]"
   ]
  },
  {
   "cell_type": "code",
   "execution_count": null,
   "metadata": {
    "collapsed": true
   },
   "outputs": [],
   "source": [
    "# Genre\n",
    "\n",
    "genres = []\n",
    "for title in travis_movies_df.movie_titles:\n",
    "    try:\n",
    "        genres.append(imdb_clean.clean_genre(travis_dict_movie_genre[title]['Genres']))\n",
    "    except:\n",
    "        genres.append('NaN')\n",
    "\n",
    "# Clean Genres Cleans the name and         \n",
    "travis_movies_df['main_genre'] = genres"
   ]
  },
  {
   "cell_type": "code",
   "execution_count": null,
   "metadata": {
    "collapsed": true
   },
   "outputs": [],
   "source": [
    "# Date\n",
    "travis_movies_df['month_released'] = travis_movies_df.release_date.apply(lambda x: imdb_clean.get_month(x))\n",
    "travis_movies_df['day_released'] = travis_movies_df.release_date.apply(lambda x: imdb_clean.get_day(x))\n",
    "travis_movies_df['year_released'] = travis_movies_df.release_date.apply(lambda x: imdb_clean.get_year(x))"
   ]
  },
  {
   "cell_type": "code",
   "execution_count": null,
   "metadata": {
    "collapsed": true
   },
   "outputs": [],
   "source": [
    "travis_movies_df['reviews'] = peter_travers_reviews.reviews"
   ]
  },
  {
   "cell_type": "code",
   "execution_count": 22,
   "metadata": {
    "collapsed": false
   },
   "outputs": [
    {
     "data": {
      "text/html": [
       "<div>\n",
       "<table border=\"1\" class=\"dataframe\">\n",
       "  <thead>\n",
       "    <tr style=\"text-align: right;\">\n",
       "      <th></th>\n",
       "      <th>movie_titles</th>\n",
       "      <th>gross</th>\n",
       "      <th>new_gross</th>\n",
       "      <th>release_date</th>\n",
       "      <th>new_opening_date</th>\n",
       "      <th>opening_weekend</th>\n",
       "      <th>new_opening_weekend</th>\n",
       "      <th>run_time</th>\n",
       "      <th>runtime_in_minutes</th>\n",
       "      <th>production</th>\n",
       "      <th>...</th>\n",
       "      <th>country</th>\n",
       "      <th>new_country</th>\n",
       "      <th>usa_dummy</th>\n",
       "      <th>title</th>\n",
       "      <th>genres</th>\n",
       "      <th>main_genre</th>\n",
       "      <th>month_released</th>\n",
       "      <th>day_released</th>\n",
       "      <th>year_released</th>\n",
       "      <th>reviews</th>\n",
       "    </tr>\n",
       "  </thead>\n",
       "  <tbody>\n",
       "    <tr>\n",
       "      <th>0</th>\n",
       "      <td>Boyhood (2014) - IMDb</td>\n",
       "      <td>$25,359,200              (USA)(27 Febr...</td>\n",
       "      <td>25359200</td>\n",
       "      <td>15 August 2014 (USA)    See more »</td>\n",
       "      <td>2014-08-15 00:00:00</td>\n",
       "      <td>$387,618              (USA)      (11 ...</td>\n",
       "      <td>387618</td>\n",
       "      <td>165 min</td>\n",
       "      <td>165</td>\n",
       "      <td>IFC Productions,        Detour Filmproduction ...</td>\n",
       "      <td>...</td>\n",
       "      <td>USA</td>\n",
       "      <td>USA</td>\n",
       "      <td>1</td>\n",
       "      <td>Boyhood</td>\n",
       "      <td>Drama</td>\n",
       "      <td>Drama</td>\n",
       "      <td>August</td>\n",
       "      <td>Friday</td>\n",
       "      <td>2014</td>\n",
       "      <td>100</td>\n",
       "    </tr>\n",
       "    <tr>\n",
       "      <th>1</th>\n",
       "      <td>Pan's Labyrinth (2006) - IMDb</td>\n",
       "      <td>$37,623,143              (USA)(8 June ...</td>\n",
       "      <td>37623143</td>\n",
       "      <td>19 January 2007 (USA)    See more »</td>\n",
       "      <td>2007-01-19 00:00:00</td>\n",
       "      <td>$501,691              (Mexico)      (...</td>\n",
       "      <td>501691</td>\n",
       "      <td>118 min|112 min</td>\n",
       "      <td>118</td>\n",
       "      <td>Estudios Picasso,        Tequila Gang,        ...</td>\n",
       "      <td>...</td>\n",
       "      <td>Spain|Mexico|USA</td>\n",
       "      <td>Spain</td>\n",
       "      <td>0</td>\n",
       "      <td>Pan's Labyrinth</td>\n",
       "      <td>Drama | Fantasy | War</td>\n",
       "      <td>Drama</td>\n",
       "      <td>January</td>\n",
       "      <td>Friday</td>\n",
       "      <td>2007</td>\n",
       "      <td>100</td>\n",
       "    </tr>\n",
       "    <tr>\n",
       "      <th>2</th>\n",
       "      <td>4 Months, 3 Weeks and 2 Days (2007) - IMDb</td>\n",
       "      <td>$1,185,783              (USA)(2 May 2008)</td>\n",
       "      <td>1185783</td>\n",
       "      <td>14 September 2007 (Romania)    See more »</td>\n",
       "      <td>2007-09-14 00:00:00</td>\n",
       "      <td>$51,712              (USA)      (25 J...</td>\n",
       "      <td>51712</td>\n",
       "      <td>113 min</td>\n",
       "      <td>113</td>\n",
       "      <td>Mobra Films,        Centrul National al Cinema...</td>\n",
       "      <td>...</td>\n",
       "      <td>Romania|Belgium</td>\n",
       "      <td>Romania</td>\n",
       "      <td>0</td>\n",
       "      <td>4 Months, 3 Weeks and 2 Days</td>\n",
       "      <td>Drama</td>\n",
       "      <td>Drama</td>\n",
       "      <td>September</td>\n",
       "      <td>Friday</td>\n",
       "      <td>2007</td>\n",
       "      <td>100</td>\n",
       "    </tr>\n",
       "  </tbody>\n",
       "</table>\n",
       "<p>3 rows × 22 columns</p>\n",
       "</div>"
      ],
      "text/plain": [
       "                                 movie_titles  \\\n",
       "0                       Boyhood (2014) - IMDb   \n",
       "1               Pan's Labyrinth (2006) - IMDb   \n",
       "2  4 Months, 3 Weeks and 2 Days (2007) - IMDb   \n",
       "\n",
       "                                               gross new_gross  \\\n",
       "0          $25,359,200              (USA)(27 Febr...  25359200   \n",
       "1          $37,623,143              (USA)(8 June ...  37623143   \n",
       "2          $1,185,783              (USA)(2 May 2008)   1185783   \n",
       "\n",
       "                                     release_date     new_opening_date  \\\n",
       "0          15 August 2014 (USA)    See more »      2014-08-15 00:00:00   \n",
       "1         19 January 2007 (USA)    See more »      2007-01-19 00:00:00   \n",
       "2   14 September 2007 (Romania)    See more »      2007-09-14 00:00:00   \n",
       "\n",
       "                                     opening_weekend new_opening_weekend  \\\n",
       "0           $387,618              (USA)      (11 ...              387618   \n",
       "1           $501,691              (Mexico)      (...              501691   \n",
       "2           $51,712              (USA)      (25 J...               51712   \n",
       "\n",
       "          run_time runtime_in_minutes  \\\n",
       "0          165 min                165   \n",
       "1  118 min|112 min                118   \n",
       "2          113 min                113   \n",
       "\n",
       "                                          production   ...    \\\n",
       "0  IFC Productions,        Detour Filmproduction ...   ...     \n",
       "1  Estudios Picasso,        Tequila Gang,        ...   ...     \n",
       "2  Mobra Films,        Centrul National al Cinema...   ...     \n",
       "\n",
       "            country new_country usa_dummy                         title  \\\n",
       "0               USA         USA         1                       Boyhood   \n",
       "1  Spain|Mexico|USA       Spain         0               Pan's Labyrinth   \n",
       "2   Romania|Belgium     Romania         0  4 Months, 3 Weeks and 2 Days   \n",
       "\n",
       "                   genres main_genre month_released day_released  \\\n",
       "0                   Drama      Drama         August       Friday   \n",
       "1   Drama | Fantasy | War      Drama        January       Friday   \n",
       "2                   Drama      Drama      September       Friday   \n",
       "\n",
       "  year_released reviews  \n",
       "0          2014     100  \n",
       "1          2007     100  \n",
       "2          2007     100  \n",
       "\n",
       "[3 rows x 22 columns]"
      ]
     },
     "execution_count": 22,
     "metadata": {},
     "output_type": "execute_result"
    }
   ],
   "source": [
    "travis_movies_df.head(3)"
   ]
  },
  {
   "cell_type": "markdown",
   "metadata": {},
   "source": [
    "### Making the Final DataFrame to be Analyzed"
   ]
  },
  {
   "cell_type": "code",
   "execution_count": 26,
   "metadata": {
    "collapsed": false
   },
   "outputs": [],
   "source": [
    "cleaner_df = travis_movies_df[(travis_movies_df.new_budget != 'NaN')&(travis_movies_df.new_opening_weekend != 'NaN')&(travis_movies_df.new_gross != 'NaN')&(travis_movies_df.reviews != 'no rating')&(travis_movies_df.runtime_in_minutes != 'NaN')&(travis_movies_df.new_opening_weekend != 'Nan')]\n",
    "clean_sans_earnings_df = travis_movies_df[(travis_movies_df.new_budget != 'NaN')&(travis_movies_df.reviews != 'no rating')&(travis_movies_df.runtime_in_minutes != 'NaN')&(travis_movies_df.new_opening_weekend != 'Nan')]"
   ]
  },
  {
   "cell_type": "code",
   "execution_count": 28,
   "metadata": {
    "collapsed": false
   },
   "outputs": [
    {
     "data": {
      "text/html": [
       "<div>\n",
       "<table border=\"1\" class=\"dataframe\">\n",
       "  <thead>\n",
       "    <tr style=\"text-align: right;\">\n",
       "      <th></th>\n",
       "      <th>movie_titles</th>\n",
       "      <th>gross</th>\n",
       "      <th>new_gross</th>\n",
       "      <th>release_date</th>\n",
       "      <th>new_opening_date</th>\n",
       "      <th>opening_weekend</th>\n",
       "      <th>new_opening_weekend</th>\n",
       "      <th>run_time</th>\n",
       "      <th>runtime_in_minutes</th>\n",
       "      <th>production</th>\n",
       "      <th>...</th>\n",
       "      <th>country</th>\n",
       "      <th>new_country</th>\n",
       "      <th>usa_dummy</th>\n",
       "      <th>title</th>\n",
       "      <th>genres</th>\n",
       "      <th>main_genre</th>\n",
       "      <th>month_released</th>\n",
       "      <th>day_released</th>\n",
       "      <th>year_released</th>\n",
       "      <th>reviews</th>\n",
       "    </tr>\n",
       "  </thead>\n",
       "  <tbody>\n",
       "    <tr>\n",
       "      <th>0</th>\n",
       "      <td>Boyhood (2014) - IMDb</td>\n",
       "      <td>$25,359,200              (USA)(27 Febr...</td>\n",
       "      <td>25359200</td>\n",
       "      <td>15 August 2014 (USA)    See more »</td>\n",
       "      <td>2014-08-15 00:00:00</td>\n",
       "      <td>$387,618              (USA)      (11 ...</td>\n",
       "      <td>387618</td>\n",
       "      <td>165 min</td>\n",
       "      <td>165</td>\n",
       "      <td>IFC Productions,        Detour Filmproduction ...</td>\n",
       "      <td>...</td>\n",
       "      <td>USA</td>\n",
       "      <td>USA</td>\n",
       "      <td>1</td>\n",
       "      <td>Boyhood</td>\n",
       "      <td>Drama</td>\n",
       "      <td>Drama</td>\n",
       "      <td>August</td>\n",
       "      <td>Friday</td>\n",
       "      <td>2014</td>\n",
       "      <td>100</td>\n",
       "    </tr>\n",
       "    <tr>\n",
       "      <th>3</th>\n",
       "      <td>12 Years a Slave (2013) - IMDb</td>\n",
       "      <td>$56,667,870              (USA)(2 May 2...</td>\n",
       "      <td>56667870</td>\n",
       "      <td>8 November 2013 (USA)    See more »</td>\n",
       "      <td>2013-11-08 00:00:00</td>\n",
       "      <td>$923,715              (USA)      (18 ...</td>\n",
       "      <td>923715</td>\n",
       "      <td>134 min</td>\n",
       "      <td>134</td>\n",
       "      <td>Regency Enterprises,        River Road Enterta...</td>\n",
       "      <td>...</td>\n",
       "      <td>USA|UK</td>\n",
       "      <td>USA</td>\n",
       "      <td>1</td>\n",
       "      <td>12 Years a Slave</td>\n",
       "      <td>Biography | Drama | History</td>\n",
       "      <td>Biography</td>\n",
       "      <td>November</td>\n",
       "      <td>Friday</td>\n",
       "      <td>2013</td>\n",
       "      <td>100</td>\n",
       "    </tr>\n",
       "  </tbody>\n",
       "</table>\n",
       "<p>2 rows × 22 columns</p>\n",
       "</div>"
      ],
      "text/plain": [
       "                     movie_titles  \\\n",
       "0           Boyhood (2014) - IMDb   \n",
       "3  12 Years a Slave (2013) - IMDb   \n",
       "\n",
       "                                               gross new_gross  \\\n",
       "0          $25,359,200              (USA)(27 Febr...  25359200   \n",
       "3          $56,667,870              (USA)(2 May 2...  56667870   \n",
       "\n",
       "                               release_date     new_opening_date  \\\n",
       "0    15 August 2014 (USA)    See more »      2014-08-15 00:00:00   \n",
       "3   8 November 2013 (USA)    See more »      2013-11-08 00:00:00   \n",
       "\n",
       "                                     opening_weekend new_opening_weekend  \\\n",
       "0           $387,618              (USA)      (11 ...              387618   \n",
       "3           $923,715              (USA)      (18 ...              923715   \n",
       "\n",
       "  run_time runtime_in_minutes  \\\n",
       "0  165 min                165   \n",
       "3  134 min                134   \n",
       "\n",
       "                                          production   ...   country  \\\n",
       "0  IFC Productions,        Detour Filmproduction ...   ...       USA   \n",
       "3  Regency Enterprises,        River Road Enterta...   ...    USA|UK   \n",
       "\n",
       "  new_country usa_dummy             title                        genres  \\\n",
       "0         USA         1           Boyhood                         Drama   \n",
       "3         USA         1  12 Years a Slave   Biography | Drama | History   \n",
       "\n",
       "  main_genre month_released day_released year_released reviews  \n",
       "0      Drama         August       Friday          2014     100  \n",
       "3  Biography       November       Friday          2013     100  \n",
       "\n",
       "[2 rows x 22 columns]"
      ]
     },
     "execution_count": 28,
     "metadata": {},
     "output_type": "execute_result"
    }
   ],
   "source": [
    "cleaner_df.head(2)"
   ]
  },
  {
   "cell_type": "code",
   "execution_count": 45,
   "metadata": {
    "collapsed": false
   },
   "outputs": [],
   "source": [
    "cleaner_df['reviews'] = cleaner_df['reviews'].apply(lambda x: int(x))\n",
    "cleaner_df['runtime_in_minutes'] = cleaner_df['runtime_in_minutes'].apply(lambda x: int(x))\n",
    "cleaner_df['new_budget'] = cleaner_df['new_budget'].apply(lambda x: int(x))\n",
    "cleaner_df['new_gross'] = cleaner_df['new_gross'].apply(lambda x: int(x))\n",
    "cleaner_df['new_opening_weekend'] = cleaner_df['new_opening_weekend'].apply(lambda x: int(x))"
   ]
  },
  {
   "cell_type": "code",
   "execution_count": 39,
   "metadata": {
    "collapsed": true
   },
   "outputs": [],
   "source": [
    "final_df = cleaner_df[['title',\n",
    "                       'new_opening_date',\n",
    "                         'reviews',\n",
    "                       'month_released',\n",
    "                       'new_opening_weekend',\n",
    "                       'day_released',\n",
    "                       'runtime_in_minutes',\n",
    "                       'new_gross',\n",
    "                       'new_budget', \n",
    "                       'usa_dummy',\n",
    "                       'main_genre']][cleaner_df.title != 'The Dying Gaul']\n"
   ]
  },
  {
   "cell_type": "code",
   "execution_count": 40,
   "metadata": {
    "collapsed": false
   },
   "outputs": [
    {
     "data": {
      "text/html": [
       "<div>\n",
       "<table border=\"1\" class=\"dataframe\">\n",
       "  <thead>\n",
       "    <tr style=\"text-align: right;\">\n",
       "      <th></th>\n",
       "      <th>title</th>\n",
       "      <th>new_opening_date</th>\n",
       "      <th>reviews</th>\n",
       "      <th>month_released</th>\n",
       "      <th>new_opening_weekend</th>\n",
       "      <th>day_released</th>\n",
       "      <th>runtime_in_minutes</th>\n",
       "      <th>new_gross</th>\n",
       "      <th>new_budget</th>\n",
       "      <th>usa_dummy</th>\n",
       "      <th>main_genre</th>\n",
       "    </tr>\n",
       "  </thead>\n",
       "  <tbody>\n",
       "    <tr>\n",
       "      <th>0</th>\n",
       "      <td>Boyhood</td>\n",
       "      <td>2014-08-15 00:00:00</td>\n",
       "      <td>100</td>\n",
       "      <td>August</td>\n",
       "      <td>387618</td>\n",
       "      <td>Friday</td>\n",
       "      <td>165</td>\n",
       "      <td>25359200</td>\n",
       "      <td>4000000</td>\n",
       "      <td>1</td>\n",
       "      <td>Drama</td>\n",
       "    </tr>\n",
       "    <tr>\n",
       "      <th>3</th>\n",
       "      <td>12 Years a Slave</td>\n",
       "      <td>2013-11-08 00:00:00</td>\n",
       "      <td>100</td>\n",
       "      <td>November</td>\n",
       "      <td>923715</td>\n",
       "      <td>Friday</td>\n",
       "      <td>134</td>\n",
       "      <td>56667870</td>\n",
       "      <td>20000000</td>\n",
       "      <td>1</td>\n",
       "      <td>Biography</td>\n",
       "    </tr>\n",
       "    <tr>\n",
       "      <th>4</th>\n",
       "      <td>Ratatouille</td>\n",
       "      <td>2007-06-29 00:00:00</td>\n",
       "      <td>88</td>\n",
       "      <td>June</td>\n",
       "      <td>47027395</td>\n",
       "      <td>Friday</td>\n",
       "      <td>111</td>\n",
       "      <td>206435493</td>\n",
       "      <td>150000000</td>\n",
       "      <td>1</td>\n",
       "      <td>Animation</td>\n",
       "    </tr>\n",
       "    <tr>\n",
       "      <th>5</th>\n",
       "      <td>Gravity</td>\n",
       "      <td>2013-10-04 00:00:00</td>\n",
       "      <td>100</td>\n",
       "      <td>October</td>\n",
       "      <td>55785112</td>\n",
       "      <td>Friday</td>\n",
       "      <td>91</td>\n",
       "      <td>274084951</td>\n",
       "      <td>100000000</td>\n",
       "      <td>0</td>\n",
       "      <td>Adventure</td>\n",
       "    </tr>\n",
       "    <tr>\n",
       "      <th>6</th>\n",
       "      <td>Carol</td>\n",
       "      <td>2016-01-15 00:00:00</td>\n",
       "      <td>100</td>\n",
       "      <td>January</td>\n",
       "      <td>253510</td>\n",
       "      <td>Friday</td>\n",
       "      <td>118</td>\n",
       "      <td>253510</td>\n",
       "      <td>11800000</td>\n",
       "      <td>0</td>\n",
       "      <td>Drama</td>\n",
       "    </tr>\n",
       "  </tbody>\n",
       "</table>\n",
       "</div>"
      ],
      "text/plain": [
       "              title     new_opening_date  reviews month_released  \\\n",
       "0           Boyhood  2014-08-15 00:00:00      100         August   \n",
       "3  12 Years a Slave  2013-11-08 00:00:00      100       November   \n",
       "4       Ratatouille  2007-06-29 00:00:00       88           June   \n",
       "5           Gravity  2013-10-04 00:00:00      100        October   \n",
       "6             Carol  2016-01-15 00:00:00      100        January   \n",
       "\n",
       "   new_opening_weekend day_released  runtime_in_minutes  new_gross  \\\n",
       "0               387618       Friday                 165   25359200   \n",
       "3               923715       Friday                 134   56667870   \n",
       "4             47027395       Friday                 111  206435493   \n",
       "5             55785112       Friday                  91  274084951   \n",
       "6               253510       Friday                 118     253510   \n",
       "\n",
       "   new_budget  usa_dummy main_genre  \n",
       "0     4000000          1      Drama  \n",
       "3    20000000          1  Biography  \n",
       "4   150000000          1  Animation  \n",
       "5   100000000          0  Adventure  \n",
       "6    11800000          0      Drama  "
      ]
     },
     "execution_count": 40,
     "metadata": {},
     "output_type": "execute_result"
    }
   ],
   "source": [
    "final_df.head()"
   ]
  },
  {
   "cell_type": "code",
   "execution_count": 46,
   "metadata": {
    "collapsed": false
   },
   "outputs": [],
   "source": [
    "final_df.to_pickle('movies_travis_df_clean.pkl')"
   ]
  },
  {
   "cell_type": "code",
   "execution_count": null,
   "metadata": {
    "collapsed": true
   },
   "outputs": [],
   "source": []
  }
 ],
 "metadata": {
  "anaconda-cloud": {},
  "kernelspec": {
   "display_name": "Python [default]",
   "language": "python",
   "name": "python2"
  },
  "language_info": {
   "codemirror_mode": {
    "name": "ipython",
    "version": 2
   },
   "file_extension": ".py",
   "mimetype": "text/x-python",
   "name": "python",
   "nbconvert_exporter": "python",
   "pygments_lexer": "ipython2",
   "version": "2.7.12"
  }
 },
 "nbformat": 4,
 "nbformat_minor": 0
}
