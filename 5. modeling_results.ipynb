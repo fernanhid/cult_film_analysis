{
 "cells": [
  {
   "cell_type": "code",
   "execution_count": 202,
   "metadata": {
    "collapsed": false
   },
   "outputs": [],
   "source": [
    "import pandas as pd\n",
    "import matplotlib.pyplot as plt\n",
    "import seaborn as sns\n",
    "import numpy as np\n",
    "import scipy as sp\n",
    "from sklearn import cross_validation, metrics\n",
    "from patsy import dmatrices\n",
    "import sklearn\n",
    "import statsmodels.api as sm\n",
    "from random import shuffle\n",
    "\n",
    "\n",
    "\n",
    "pd.options.mode.chained_assignment = None \n",
    "%matplotlib inline"
   ]
  },
  {
   "cell_type": "code",
   "execution_count": 132,
   "metadata": {
    "collapsed": false
   },
   "outputs": [],
   "source": [
    "columns = ['title', 'opening_date', 'ratings', 'month_released', 'opening_weekend', 'day_released', 'runtime_minutes',\n",
    "          'gross', 'budget', 'usa_dummy', 'genre']\n",
    "final_df = pd.read_pickle('movies_travis_df_clean.pkl')\n",
    "final_df.columns = columns"
   ]
  },
  {
   "cell_type": "code",
   "execution_count": 133,
   "metadata": {
    "collapsed": false
   },
   "outputs": [
    {
     "data": {
      "text/html": [
       "<div>\n",
       "<table border=\"1\" class=\"dataframe\">\n",
       "  <thead>\n",
       "    <tr style=\"text-align: right;\">\n",
       "      <th></th>\n",
       "      <th>title</th>\n",
       "      <th>opening_date</th>\n",
       "      <th>ratings</th>\n",
       "      <th>month_released</th>\n",
       "      <th>opening_weekend</th>\n",
       "      <th>day_released</th>\n",
       "      <th>runtime_minutes</th>\n",
       "      <th>gross</th>\n",
       "      <th>budget</th>\n",
       "      <th>usa_dummy</th>\n",
       "      <th>genre</th>\n",
       "    </tr>\n",
       "  </thead>\n",
       "  <tbody>\n",
       "    <tr>\n",
       "      <th>0</th>\n",
       "      <td>Boyhood</td>\n",
       "      <td>2014-08-15 00:00:00</td>\n",
       "      <td>100</td>\n",
       "      <td>August</td>\n",
       "      <td>387618</td>\n",
       "      <td>Friday</td>\n",
       "      <td>165</td>\n",
       "      <td>25359200</td>\n",
       "      <td>4000000</td>\n",
       "      <td>1</td>\n",
       "      <td>Drama</td>\n",
       "    </tr>\n",
       "    <tr>\n",
       "      <th>3</th>\n",
       "      <td>12 Years a Slave</td>\n",
       "      <td>2013-11-08 00:00:00</td>\n",
       "      <td>100</td>\n",
       "      <td>November</td>\n",
       "      <td>923715</td>\n",
       "      <td>Friday</td>\n",
       "      <td>134</td>\n",
       "      <td>56667870</td>\n",
       "      <td>20000000</td>\n",
       "      <td>1</td>\n",
       "      <td>Biography</td>\n",
       "    </tr>\n",
       "    <tr>\n",
       "      <th>4</th>\n",
       "      <td>Ratatouille</td>\n",
       "      <td>2007-06-29 00:00:00</td>\n",
       "      <td>88</td>\n",
       "      <td>June</td>\n",
       "      <td>47027395</td>\n",
       "      <td>Friday</td>\n",
       "      <td>111</td>\n",
       "      <td>206435493</td>\n",
       "      <td>150000000</td>\n",
       "      <td>1</td>\n",
       "      <td>Animation</td>\n",
       "    </tr>\n",
       "    <tr>\n",
       "      <th>5</th>\n",
       "      <td>Gravity</td>\n",
       "      <td>2013-10-04 00:00:00</td>\n",
       "      <td>100</td>\n",
       "      <td>October</td>\n",
       "      <td>55785112</td>\n",
       "      <td>Friday</td>\n",
       "      <td>91</td>\n",
       "      <td>274084951</td>\n",
       "      <td>100000000</td>\n",
       "      <td>0</td>\n",
       "      <td>Adventure</td>\n",
       "    </tr>\n",
       "    <tr>\n",
       "      <th>6</th>\n",
       "      <td>Carol</td>\n",
       "      <td>2016-01-15 00:00:00</td>\n",
       "      <td>100</td>\n",
       "      <td>January</td>\n",
       "      <td>253510</td>\n",
       "      <td>Friday</td>\n",
       "      <td>118</td>\n",
       "      <td>253510</td>\n",
       "      <td>11800000</td>\n",
       "      <td>0</td>\n",
       "      <td>Drama</td>\n",
       "    </tr>\n",
       "  </tbody>\n",
       "</table>\n",
       "</div>"
      ],
      "text/plain": [
       "              title         opening_date  ratings month_released  \\\n",
       "0           Boyhood  2014-08-15 00:00:00      100         August   \n",
       "3  12 Years a Slave  2013-11-08 00:00:00      100       November   \n",
       "4       Ratatouille  2007-06-29 00:00:00       88           June   \n",
       "5           Gravity  2013-10-04 00:00:00      100        October   \n",
       "6             Carol  2016-01-15 00:00:00      100        January   \n",
       "\n",
       "   opening_weekend day_released  runtime_minutes      gross     budget  \\\n",
       "0           387618       Friday              165   25359200    4000000   \n",
       "3           923715       Friday              134   56667870   20000000   \n",
       "4         47027395       Friday              111  206435493  150000000   \n",
       "5         55785112       Friday               91  274084951  100000000   \n",
       "6           253510       Friday              118     253510   11800000   \n",
       "\n",
       "   usa_dummy      genre  \n",
       "0          1      Drama  \n",
       "3          1  Biography  \n",
       "4          1  Animation  \n",
       "5          0  Adventure  \n",
       "6          0      Drama  "
      ]
     },
     "execution_count": 133,
     "metadata": {},
     "output_type": "execute_result"
    }
   ],
   "source": [
    "final_df.head()"
   ]
  },
  {
   "cell_type": "code",
   "execution_count": 134,
   "metadata": {
    "collapsed": false
   },
   "outputs": [
    {
     "data": {
      "image/png": "[encoded data removed]",
      "text/plain": [
       "<matplotlib.figure.Figure at 0x11557d6d0>"
      ]
     },
     "metadata": {},
     "output_type": "display_data"
    }
   ],
   "source": [
    "months = ['January', 'February', 'March', 'April', 'May', 'June', 'July', 'August', 'September', 'October',\n",
    "          'November', 'December']\n",
    "\n",
    "figure = plt.figure()\n",
    "titles_per_month = final_df.groupby('month_released').count().title[months]\n",
    "titles_per_month.plot('bar')\n",
    "figure.set_size_inches(15,5)\n",
    "plt.ylabel('# of Movies')\n",
    "_ = plt.title('# of Movies Per Month')"
   ]
  },
  {
   "cell_type": "code",
   "execution_count": 135,
   "metadata": {
    "collapsed": false
   },
   "outputs": [
    {
     "data": {
      "image/png": "[encoded data removed]",
      "text/plain": [
       "<matplotlib.figure.Figure at 0x11bdbf6d0>"
      ]
     },
     "metadata": {},
     "output_type": "display_data"
    }
   ],
   "source": [
    "_ = sns.factorplot(x = 'genre', data = final_df, kind = 'count', size = 6, aspect = 3 )"
   ]
  },
  {
   "cell_type": "code",
   "execution_count": 172,
   "metadata": {
    "collapsed": false
   },
   "outputs": [
    {
     "data": {
      "image/png": "[encoded data removed]",
      "text/plain": [
       "<matplotlib.figure.Figure at 0x11ab66d10>"
      ]
     },
     "metadata": {},
     "output_type": "display_data"
    }
   ],
   "source": [
    "days = ['Monday', 'Tuesday', 'Wednesday', 'Thursday', 'Friday', 'Saturday', 'Sunday']\n",
    "\n",
    "figure = plt.figure()\n",
    "titles_per_month = final_df.groupby('day_released').count().title[days]\n",
    "titles_per_month.plot('bar')\n",
    "figure.set_size_inches(15,5)\n",
    "plt.ylabel('# of Movies')\n",
    "_ = plt.title('# of Movies Per Month')"
   ]
  },
  {
   "cell_type": "code",
   "execution_count": 138,
   "metadata": {
    "collapsed": false
   },
   "outputs": [
    {
     "data": {
      "image/png": "[encoded data removed]",
      "text/plain": [
       "<matplotlib.figure.Figure at 0x115571550>"
      ]
     },
     "metadata": {},
     "output_type": "display_data"
    }
   ],
   "source": [
    "columns = ['ratings', 'runtime_minutes', 'usa_dummy', 'budget', 'gross', 'opening_weekend']\n",
    "pd.set_option('display.mpl_style', 'default')              \n",
    "plt.rcParams['figure.figsize'] = (10, 10)\n",
    "_ = pd.tools.plotting.scatter_matrix(final_df[columns])"
   ]
  },
  {
   "cell_type": "code",
   "execution_count": 140,
   "metadata": {
    "collapsed": false
   },
   "outputs": [
    {
     "data": {
      "image/png": "[encoded data removed]",
      "text/plain": [
       "<matplotlib.figure.Figure at 0x1160cd9d0>"
      ]
     },
     "metadata": {},
     "output_type": "display_data"
    }
   ],
   "source": [
    "plt.rcParams['figure.figsize'] = (10, 5)\n",
    "plt.hist(x = final_df.ratings)\n",
    "_ = plt.title('Distribution of Reviews')"
   ]
  },
  {
   "cell_type": "code",
   "execution_count": 141,
   "metadata": {
    "collapsed": false
   },
   "outputs": [],
   "source": [
    "# Skewed!"
   ]
  },
  {
   "cell_type": "code",
   "execution_count": 142,
   "metadata": {
    "collapsed": false
   },
   "outputs": [
    {
     "data": {
      "image/png": "[encoded data removed]",
      "text/plain": [
       "<matplotlib.figure.Figure at 0x11883c950>"
      ]
     },
     "metadata": {},
     "output_type": "display_data"
    }
   ],
   "source": [
    "_ = sns.factorplot(x = 'genre', y = 'gross', data = final_df,  kind = 'bar', size = 6, aspect = 3)"
   ]
  },
  {
   "cell_type": "code",
   "execution_count": 143,
   "metadata": {
    "collapsed": false
   },
   "outputs": [
    {
     "data": {
      "image/png": "[encoded data removed]",
      "text/plain": [
       "<matplotlib.figure.Figure at 0x1163cbc90>"
      ]
     },
     "metadata": {},
     "output_type": "display_data"
    }
   ],
   "source": [
    "_ = sns.factorplot(x = 'genre', y = 'budget', data = final_df,  kind = 'bar', size = 6, aspect = 3)"
   ]
  },
  {
   "cell_type": "markdown",
   "metadata": {},
   "source": [
    "# Prediction"
   ]
  },
  {
   "cell_type": "code",
   "execution_count": 144,
   "metadata": {
    "collapsed": false
   },
   "outputs": [],
   "source": [
    "# Transform Skewed Labels\n",
    "final_df['log_ratings'] = np.log(final_df.ratings)\n",
    "\n",
    "\n",
    "newM, lmbdaM = sp.stats.boxcox(final_df['ratings'])\n",
    "newM = list(newM)\n",
    "final_df['box_cox_ratings'] = newM"
   ]
  },
  {
   "cell_type": "code",
   "execution_count": 167,
   "metadata": {
    "collapsed": false
   },
   "outputs": [
    {
     "name": "stdout",
     "output_type": "stream",
     "text": [
      "Baseline 0.073889197102039422\n"
     ]
    }
   ],
   "source": [
    "log_baseline = sum((log_y.values-log_y.values.mean())**2)/len(log_y)\n",
    "print 'Baseline: %r' %log_baseline[0]"
   ]
  },
  {
   "cell_type": "code",
   "execution_count": 147,
   "metadata": {
    "collapsed": false
   },
   "outputs": [],
   "source": [
    "y, X = dmatrices('ratings ~ day_released + runtime_minutes + budget + usa_dummy + genre + month_released', data=final_df, return_type='dataframe')\n",
    "log_y, log_X = dmatrices('log_ratings ~ day_released + runtime_minutes + budget + usa_dummy + genre + month_released', data=final_df, return_type='dataframe')\n",
    "box_cox_y, box_cox_X = dmatrices('box_cox_ratings ~ day_released + runtime_minutes + budget + usa_dummy + genre + month_released', data=final_df, return_type='dataframe')\n",
    "\n",
    "\n",
    "X_train, X_test, y_train, y_test = cross_validation.train_test_split(log_X, log_y, test_size=0.20, random_state=14)\n",
    "log_X_train, log_X_test, log_y_train, log_y_test = cross_validation.train_test_split(log_X, log_y, test_size=0.20, random_state=15)\n",
    "box_cox_X_train, box_cox_X_test, box_cox_y_train, box_cox_y_test = cross_validation.train_test_split(box_cox_X, box_cox_y, test_size=0.20, random_state=16)"
   ]
  },
  {
   "cell_type": "code",
   "execution_count": 816,
   "metadata": {
    "collapsed": true
   },
   "outputs": [],
   "source": [
    "no_dummy_column = ['usa_dummy','new_budget','runtime_in_minutes']"
   ]
  },
  {
   "cell_type": "markdown",
   "metadata": {},
   "source": [
    "## No Transformation"
   ]
  },
  {
   "cell_type": "code",
   "execution_count": 156,
   "metadata": {
    "collapsed": false
   },
   "outputs": [
    {
     "name": "stdout",
     "output_type": "stream",
     "text": [
      "[ 261.83781134]\n"
     ]
    }
   ],
   "source": [
    "org_baseline = sum((y.values-y.values.mean())**2)/len(y)\n",
    "print org_baseline"
   ]
  },
  {
   "cell_type": "code",
   "execution_count": 157,
   "metadata": {
    "collapsed": true
   },
   "outputs": [],
   "source": [
    "from sklearn import linear_model"
   ]
  },
  {
   "cell_type": "code",
   "execution_count": 161,
   "metadata": {
    "collapsed": false
   },
   "outputs": [
    {
     "name": "stdout",
     "output_type": "stream",
     "text": [
      "Training Error: 0.069102141406237869\n",
      "Test Error: 0.072089513904735225\n",
      "Gain: 0.99972467874850868\n"
     ]
    }
   ],
   "source": [
    "reg = linear_model.LinearRegression()\n",
    "\n",
    "reg.fit(X_train, y_train)\n",
    "\n",
    "training_error = (sklearn.metrics.mean_squared_error(y_train, reg.predict(X_train)))\n",
    "print 'Training Error: %r' %training_error\n",
    "test_error = (sklearn.metrics.mean_squared_error(y_test, reg.predict(X_test)))\n",
    "print 'Test Error: %r' %test_error\n",
    "\n",
    "print 'Gain: %r' %((org_baseline - test_error)/org_baseline)[0]"
   ]
  },
  {
   "cell_type": "code",
   "execution_count": 168,
   "metadata": {
    "collapsed": false
   },
   "outputs": [
    {
     "name": "stdout",
     "output_type": "stream",
     "text": [
      "Training Error: 0.073717445636688403\n",
      "Test Error: 0.073275742066136185\n",
      "('alpha=', 12814.246435649755)\n",
      "Gain: 0.99972014835560885\n"
     ]
    }
   ],
   "source": [
    "org_model_lasso = sklearn.linear_model.LassoCV(eps=0.001, n_alphas=100, cv=10).fit(X_train, sklearn.utils.column_or_1d(y_train))\n",
    "\n",
    "training_error = (sklearn.metrics.mean_squared_error(y_train, org_model_lasso.predict(X_train)))\n",
    "print 'Training Error: %r' %training_error\n",
    "test_error = (sklearn.metrics.mean_squared_error(y_test, org_model_lasso.predict(X_test)))\n",
    "print 'Test Error: %r' %test_error\n",
    "\n",
    "print('alpha=', org_model_lasso.alpha_)\n",
    "print 'Gain: %r' %((org_baseline - test_error)/org_baseline)[0]"
   ]
  },
  {
   "cell_type": "code",
   "execution_count": 170,
   "metadata": {
    "collapsed": false
   },
   "outputs": [
    {
     "name": "stdout",
     "output_type": "stream",
     "text": [
      "Training Error 0.069888696611993387\n",
      "Test Error: 0.071035098725374612\n",
      "('alpha=', 10.0)\n",
      "Gain: 0.99972870572678962\n"
     ]
    }
   ],
   "source": [
    "#Ridge\n",
    "\n",
    "org_model_ridge = sklearn.linear_model.RidgeCV( cv=10).fit(X_train, sklearn.utils.column_or_1d(y_train))\n",
    "\n",
    "training_error = (sklearn.metrics.mean_squared_error(y_train, org_model_ridge.predict(X_train)))\n",
    "print 'Training Error %r'%training_error\n",
    "test_error = (sklearn.metrics.mean_squared_error(y_test, org_model_ridge.predict(X_test)))\n",
    "print 'Test Error: %r' %test_error\n",
    "\n",
    "print('alpha=', org_model_ridge.alpha_)\n",
    "print 'Gain: %r' %((org_baseline - test_error)/org_baseline)[0]\n",
    "# m_alphas = org_model_lasso.alphas_\n",
    "\n"
   ]
  },
  {
   "cell_type": "code",
   "execution_count": 173,
   "metadata": {
    "collapsed": false
   },
   "outputs": [
    {
     "data": {
      "text/plain": [
       "[<matplotlib.lines.Line2D at 0x11a9a2910>]"
      ]
     },
     "execution_count": 173,
     "metadata": {},
     "output_type": "execute_result"
    },
    {
     "data": {
      "image/png": "[encoded data removed]",
      "text/plain": [
       "<matplotlib.figure.Figure at 0x11a9a2210>"
      ]
     },
     "metadata": {},
     "output_type": "display_data"
    }
   ],
   "source": [
    "plt.plot(org_model_lasso.alphas_, org_model_lasso.mse_path_);\n",
    "plt.plot(org_model_lasso.alphas_, org_model_lasso.mse_path_.mean(1), lw=5)\n"
   ]
  },
  {
   "cell_type": "code",
   "execution_count": 177,
   "metadata": {
    "collapsed": false
   },
   "outputs": [
    {
     "data": {
      "text/html": [
       "<table class=\"simpletable\">\n",
       "<caption>OLS Regression Results</caption>\n",
       "<tr>\n",
       "  <th>Dep. Variable:</th>         <td>ratings</td>     <th>  R-squared:         </th> <td>   0.074</td>\n",
       "</tr>\n",
       "<tr>\n",
       "  <th>Model:</th>                   <td>OLS</td>       <th>  Adj. R-squared:    </th> <td>   0.036</td>\n",
       "</tr>\n",
       "<tr>\n",
       "  <th>Method:</th>             <td>Least Squares</td>  <th>  F-statistic:       </th> <td>   1.980</td>\n",
       "</tr>\n",
       "<tr>\n",
       "  <th>Date:</th>             <td>Mon, 19 Sep 2016</td> <th>  Prob (F-statistic):</th>  <td>0.00151</td>\n",
       "</tr>\n",
       "<tr>\n",
       "  <th>Time:</th>                 <td>20:53:56</td>     <th>  Log-Likelihood:    </th> <td> -3235.8</td>\n",
       "</tr>\n",
       "<tr>\n",
       "  <th>No. Observations:</th>      <td>   777</td>      <th>  AIC:               </th> <td>   6534.</td>\n",
       "</tr>\n",
       "<tr>\n",
       "  <th>Df Residuals:</th>          <td>   746</td>      <th>  BIC:               </th> <td>   6678.</td>\n",
       "</tr>\n",
       "<tr>\n",
       "  <th>Df Model:</th>              <td>    30</td>      <th>                     </th>     <td> </td>   \n",
       "</tr>\n",
       "<tr>\n",
       "  <th>Covariance Type:</th>      <td>nonrobust</td>    <th>                     </th>     <td> </td>   \n",
       "</tr>\n",
       "</table>\n",
       "<table class=\"simpletable\">\n",
       "<tr>\n",
       "               <td></td>                  <th>coef</th>     <th>std err</th>      <th>t</th>      <th>P>|t|</th> <th>[95.0% Conf. Int.]</th> \n",
       "</tr>\n",
       "<tr>\n",
       "  <th>Intercept</th>                   <td>   68.2881</td> <td>    4.841</td> <td>   14.105</td> <td> 0.000</td> <td>   58.784    77.793</td>\n",
       "</tr>\n",
       "<tr>\n",
       "  <th>day_released[T.Monday]</th>      <td>    1.4395</td> <td>    8.166</td> <td>    0.176</td> <td> 0.860</td> <td>  -14.591    17.470</td>\n",
       "</tr>\n",
       "<tr>\n",
       "  <th>day_released[T.Saturday]</th>    <td>   -2.3695</td> <td>    7.382</td> <td>   -0.321</td> <td> 0.748</td> <td>  -16.861    12.122</td>\n",
       "</tr>\n",
       "<tr>\n",
       "  <th>day_released[T.Sunday]</th>      <td>    9.5689</td> <td>   11.396</td> <td>    0.840</td> <td> 0.401</td> <td>  -12.802    31.940</td>\n",
       "</tr>\n",
       "<tr>\n",
       "  <th>day_released[T.Thursday]</th>    <td>   -1.7622</td> <td>    3.014</td> <td>   -0.585</td> <td> 0.559</td> <td>   -7.679     4.155</td>\n",
       "</tr>\n",
       "<tr>\n",
       "  <th>day_released[T.Tuesday]</th>     <td>   -5.2204</td> <td>   16.243</td> <td>   -0.321</td> <td> 0.748</td> <td>  -37.108    26.667</td>\n",
       "</tr>\n",
       "<tr>\n",
       "  <th>day_released[T.Wednesday]</th>   <td>   -1.8375</td> <td>    2.131</td> <td>   -0.862</td> <td> 0.389</td> <td>   -6.020     2.345</td>\n",
       "</tr>\n",
       "<tr>\n",
       "  <th>genre[T.Adventure]</th>          <td>    8.9215</td> <td>    2.860</td> <td>    3.119</td> <td> 0.002</td> <td>    3.307    14.536</td>\n",
       "</tr>\n",
       "<tr>\n",
       "  <th>genre[T.Animation]</th>          <td>    8.2824</td> <td>    3.189</td> <td>    2.597</td> <td> 0.010</td> <td>    2.023    14.542</td>\n",
       "</tr>\n",
       "<tr>\n",
       "  <th>genre[T.Biography]</th>          <td>    7.5631</td> <td>    2.617</td> <td>    2.890</td> <td> 0.004</td> <td>    2.425    12.701</td>\n",
       "</tr>\n",
       "<tr>\n",
       "  <th>genre[T.Comedy]</th>             <td>    2.1098</td> <td>    2.147</td> <td>    0.983</td> <td> 0.326</td> <td>   -2.105     6.325</td>\n",
       "</tr>\n",
       "<tr>\n",
       "  <th>genre[T.Crime]</th>              <td>    5.3566</td> <td>    2.621</td> <td>    2.044</td> <td> 0.041</td> <td>    0.211    10.502</td>\n",
       "</tr>\n",
       "<tr>\n",
       "  <th>genre[T.Documentary]</th>        <td>   12.2502</td> <td>    6.473</td> <td>    1.892</td> <td> 0.059</td> <td>   -0.457    24.958</td>\n",
       "</tr>\n",
       "<tr>\n",
       "  <th>genre[T.Drama]</th>              <td>    3.6637</td> <td>    2.151</td> <td>    1.703</td> <td> 0.089</td> <td>   -0.559     7.886</td>\n",
       "</tr>\n",
       "<tr>\n",
       "  <th>genre[T.Fantasy]</th>            <td>   -2.7586</td> <td>    8.166</td> <td>   -0.338</td> <td> 0.736</td> <td>  -18.789    13.272</td>\n",
       "</tr>\n",
       "<tr>\n",
       "  <th>genre[T.Horror]</th>             <td>   -1.8701</td> <td>    5.221</td> <td>   -0.358</td> <td> 0.720</td> <td>  -12.119     8.379</td>\n",
       "</tr>\n",
       "<tr>\n",
       "  <th>genre[T.Mystery]</th>            <td>   16.7869</td> <td>    8.189</td> <td>    2.050</td> <td> 0.041</td> <td>    0.711    32.863</td>\n",
       "</tr>\n",
       "<tr>\n",
       "  <th>month_released[T.August]</th>    <td>   -0.1111</td> <td>    2.811</td> <td>   -0.040</td> <td> 0.968</td> <td>   -5.630     5.408</td>\n",
       "</tr>\n",
       "<tr>\n",
       "  <th>month_released[T.December]</th>  <td>   -2.5797</td> <td>    2.981</td> <td>   -0.865</td> <td> 0.387</td> <td>   -8.431     3.272</td>\n",
       "</tr>\n",
       "<tr>\n",
       "  <th>month_released[T.February]</th>  <td>   -4.2142</td> <td>    3.382</td> <td>   -1.246</td> <td> 0.213</td> <td>  -10.853     2.425</td>\n",
       "</tr>\n",
       "<tr>\n",
       "  <th>month_released[T.January]</th>   <td>    3.4003</td> <td>    2.911</td> <td>    1.168</td> <td> 0.243</td> <td>   -2.314     9.114</td>\n",
       "</tr>\n",
       "<tr>\n",
       "  <th>month_released[T.July]</th>      <td>    0.9085</td> <td>    2.952</td> <td>    0.308</td> <td> 0.758</td> <td>   -4.888     6.705</td>\n",
       "</tr>\n",
       "<tr>\n",
       "  <th>month_released[T.June]</th>      <td>   -0.9718</td> <td>    2.771</td> <td>   -0.351</td> <td> 0.726</td> <td>   -6.411     4.467</td>\n",
       "</tr>\n",
       "<tr>\n",
       "  <th>month_released[T.March]</th>     <td>   -4.6226</td> <td>    2.950</td> <td>   -1.567</td> <td> 0.118</td> <td>  -10.413     1.168</td>\n",
       "</tr>\n",
       "<tr>\n",
       "  <th>month_released[T.May]</th>       <td>   -4.8968</td> <td>    2.973</td> <td>   -1.647</td> <td> 0.100</td> <td>  -10.734     0.940</td>\n",
       "</tr>\n",
       "<tr>\n",
       "  <th>month_released[T.November]</th>  <td>   -0.2138</td> <td>    2.838</td> <td>   -0.075</td> <td> 0.940</td> <td>   -5.786     5.358</td>\n",
       "</tr>\n",
       "<tr>\n",
       "  <th>month_released[T.October]</th>   <td>   -5.0409</td> <td>    2.659</td> <td>   -1.896</td> <td> 0.058</td> <td>  -10.261     0.179</td>\n",
       "</tr>\n",
       "<tr>\n",
       "  <th>month_released[T.September]</th> <td>   -5.5691</td> <td>    2.849</td> <td>   -1.955</td> <td> 0.051</td> <td>  -11.163     0.024</td>\n",
       "</tr>\n",
       "<tr>\n",
       "  <th>runtime_minutes</th>             <td>    0.0424</td> <td>    0.037</td> <td>    1.153</td> <td> 0.249</td> <td>   -0.030     0.115</td>\n",
       "</tr>\n",
       "<tr>\n",
       "  <th>budget</th>                      <td>-2.528e-08</td> <td> 1.81e-08</td> <td>   -1.399</td> <td> 0.162</td> <td>-6.08e-08  1.02e-08</td>\n",
       "</tr>\n",
       "<tr>\n",
       "  <th>usa_dummy</th>                   <td>   -0.9241</td> <td>    1.560</td> <td>   -0.592</td> <td> 0.554</td> <td>   -3.986     2.138</td>\n",
       "</tr>\n",
       "</table>\n",
       "<table class=\"simpletable\">\n",
       "<tr>\n",
       "  <th>Omnibus:</th>       <td>70.966</td> <th>  Durbin-Watson:     </th> <td>   1.329</td>\n",
       "</tr>\n",
       "<tr>\n",
       "  <th>Prob(Omnibus):</th> <td> 0.000</td> <th>  Jarque-Bera (JB):  </th> <td>  89.791</td>\n",
       "</tr>\n",
       "<tr>\n",
       "  <th>Skew:</th>          <td>-0.764</td> <th>  Prob(JB):          </th> <td>3.18e-20</td>\n",
       "</tr>\n",
       "<tr>\n",
       "  <th>Kurtosis:</th>      <td> 3.664</td> <th>  Cond. No.          </th> <td>1.81e+09</td>\n",
       "</tr>\n",
       "</table>"
      ],
      "text/plain": [
       "<class 'statsmodels.iolib.summary.Summary'>\n",
       "\"\"\"\n",
       "                            OLS Regression Results                            \n",
       "==============================================================================\n",
       "Dep. Variable:                ratings   R-squared:                       0.074\n",
       "Model:                            OLS   Adj. R-squared:                  0.036\n",
       "Method:                 Least Squares   F-statistic:                     1.980\n",
       "Date:                Mon, 19 Sep 2016   Prob (F-statistic):            0.00151\n",
       "Time:                        20:53:56   Log-Likelihood:                -3235.8\n",
       "No. Observations:                 777   AIC:                             6534.\n",
       "Df Residuals:                     746   BIC:                             6678.\n",
       "Df Model:                          30                                         \n",
       "Covariance Type:            nonrobust                                         \n",
       "===============================================================================================\n",
       "                                  coef    std err          t      P>|t|      [95.0% Conf. Int.]\n",
       "-----------------------------------------------------------------------------------------------\n",
       "Intercept                      68.2881      4.841     14.105      0.000        58.784    77.793\n",
       "day_released[T.Monday]          1.4395      8.166      0.176      0.860       -14.591    17.470\n",
       "day_released[T.Saturday]       -2.3695      7.382     -0.321      0.748       -16.861    12.122\n",
       "day_released[T.Sunday]          9.5689     11.396      0.840      0.401       -12.802    31.940\n",
       "day_released[T.Thursday]       -1.7622      3.014     -0.585      0.559        -7.679     4.155\n",
       "day_released[T.Tuesday]        -5.2204     16.243     -0.321      0.748       -37.108    26.667\n",
       "day_released[T.Wednesday]      -1.8375      2.131     -0.862      0.389        -6.020     2.345\n",
       "genre[T.Adventure]              8.9215      2.860      3.119      0.002         3.307    14.536\n",
       "genre[T.Animation]              8.2824      3.189      2.597      0.010         2.023    14.542\n",
       "genre[T.Biography]              7.5631      2.617      2.890      0.004         2.425    12.701\n",
       "genre[T.Comedy]                 2.1098      2.147      0.983      0.326        -2.105     6.325\n",
       "genre[T.Crime]                  5.3566      2.621      2.044      0.041         0.211    10.502\n",
       "genre[T.Documentary]           12.2502      6.473      1.892      0.059        -0.457    24.958\n",
       "genre[T.Drama]                  3.6637      2.151      1.703      0.089        -0.559     7.886\n",
       "genre[T.Fantasy]               -2.7586      8.166     -0.338      0.736       -18.789    13.272\n",
       "genre[T.Horror]                -1.8701      5.221     -0.358      0.720       -12.119     8.379\n",
       "genre[T.Mystery]               16.7869      8.189      2.050      0.041         0.711    32.863\n",
       "month_released[T.August]       -0.1111      2.811     -0.040      0.968        -5.630     5.408\n",
       "month_released[T.December]     -2.5797      2.981     -0.865      0.387        -8.431     3.272\n",
       "month_released[T.February]     -4.2142      3.382     -1.246      0.213       -10.853     2.425\n",
       "month_released[T.January]       3.4003      2.911      1.168      0.243        -2.314     9.114\n",
       "month_released[T.July]          0.9085      2.952      0.308      0.758        -4.888     6.705\n",
       "month_released[T.June]         -0.9718      2.771     -0.351      0.726        -6.411     4.467\n",
       "month_released[T.March]        -4.6226      2.950     -1.567      0.118       -10.413     1.168\n",
       "month_released[T.May]          -4.8968      2.973     -1.647      0.100       -10.734     0.940\n",
       "month_released[T.November]     -0.2138      2.838     -0.075      0.940        -5.786     5.358\n",
       "month_released[T.October]      -5.0409      2.659     -1.896      0.058       -10.261     0.179\n",
       "month_released[T.September]    -5.5691      2.849     -1.955      0.051       -11.163     0.024\n",
       "runtime_minutes                 0.0424      0.037      1.153      0.249        -0.030     0.115\n",
       "budget                      -2.528e-08   1.81e-08     -1.399      0.162     -6.08e-08  1.02e-08\n",
       "usa_dummy                      -0.9241      1.560     -0.592      0.554        -3.986     2.138\n",
       "==============================================================================\n",
       "Omnibus:                       70.966   Durbin-Watson:                   1.329\n",
       "Prob(Omnibus):                  0.000   Jarque-Bera (JB):               89.791\n",
       "Skew:                          -0.764   Prob(JB):                     3.18e-20\n",
       "Kurtosis:                       3.664   Cond. No.                     1.81e+09\n",
       "==============================================================================\n",
       "\n",
       "Warnings:\n",
       "[1] Standard Errors assume that the covariance matrix of the errors is correctly specified.\n",
       "[2] The condition number is large, 1.81e+09. This might indicate that there are\n",
       "strong multicollinearity or other numerical problems.\n",
       "\"\"\""
      ]
     },
     "execution_count": 177,
     "metadata": {},
     "output_type": "execute_result"
    }
   ],
   "source": [
    "model = sm.OLS(y, X)\n",
    "results = model.fit()\n",
    "results.summary()"
   ]
  },
  {
   "cell_type": "markdown",
   "metadata": {},
   "source": [
    "## Log Transform"
   ]
  },
  {
   "cell_type": "code",
   "execution_count": 179,
   "metadata": {
    "collapsed": false
   },
   "outputs": [],
   "source": [
    "#Baseline\n",
    "log_baseline = sum((log_y.values-log_y.values.mean())**2)/len(log_y)"
   ]
  },
  {
   "cell_type": "code",
   "execution_count": 180,
   "metadata": {
    "collapsed": false
   },
   "outputs": [
    {
     "name": "stdout",
     "output_type": "stream",
     "text": [
      "Training Error: 0.06874770847130314\n",
      "Test Error: 0.073741997935286685\n",
      "Gain: 0.0019921608641850354\n"
     ]
    }
   ],
   "source": [
    "reg = linear_model.LinearRegression()\n",
    "\n",
    "reg.fit(log_X_train, log_y_train)\n",
    "\n",
    "training_error = (sklearn.metrics.mean_squared_error(log_y_train, reg.predict(log_X_train)))\n",
    "print 'Training Error: %r' %training_error\n",
    "test_error = (sklearn.metrics.mean_squared_error(log_y_test, reg.predict(log_X_test)))\n",
    "print 'Test Error: %r' %test_error\n",
    "print 'Gain: %r' %((log_baseline - test_error)/log_baseline)[0]"
   ]
  },
  {
   "cell_type": "code",
   "execution_count": 181,
   "metadata": {
    "collapsed": false
   },
   "outputs": [
    {
     "name": "stdout",
     "output_type": "stream",
     "text": [
      "Training Error: 0.073243133135209429\n",
      "Test Error: 0.075192258998200603\n",
      "('alpha=', 893.83092650987169)\n",
      "Gain: -0.017635350596132207\n"
     ]
    }
   ],
   "source": [
    "#Lasso\n",
    "\n",
    "log_model_lasso = sklearn.linear_model.LassoCV(eps=0.001, n_alphas=100, cv=10).fit(log_X_train, sklearn.utils.column_or_1d(log_y_train))\n",
    "\n",
    "#model_lasso1.predict(x_test,y_test)\n",
    "training_error = (sklearn.metrics.mean_squared_error(log_y_train, log_model_lasso.predict(log_X_train)))\n",
    "print 'Training Error: %r' %training_error\n",
    "test_error = (sklearn.metrics.mean_squared_error(log_y_test, log_model_lasso.predict(log_X_test)))\n",
    "print 'Test Error: %r' %test_error\n",
    "print('alpha=', log_model_lasso.alpha_)\n",
    "print 'Gain: %r' %((log_baseline - test_error)/log_baseline)[0]"
   ]
  },
  {
   "cell_type": "code",
   "execution_count": 182,
   "metadata": {
    "collapsed": false
   },
   "outputs": [
    {
     "name": "stdout",
     "output_type": "stream",
     "text": [
      "Training Error: 0.069546633479308326\n",
      "Test Error: 0.072370584307050401\n",
      "('alpha=', 10.0)\n",
      "Gain: 0.020552568637223777\n"
     ]
    }
   ],
   "source": [
    "#Ridge\n",
    "\n",
    "log_model_ridge = sklearn.linear_model.RidgeCV(cv=10).fit(log_X_train, sklearn.utils.column_or_1d(log_y_train))\n",
    "\n",
    "#model_lasso1.predict(x_test,y_test)\n",
    "training_error = (sklearn.metrics.mean_squared_error(log_y_train, log_model_ridge.predict(log_X_train)))\n",
    "print 'Training Error: %r' %training_error\n",
    "test_error = (sklearn.metrics.mean_squared_error(log_y_test, log_model_ridge.predict(log_X_test)))\n",
    "print 'Test Error: %r' %test_error\n",
    "print('alpha=', log_model_ridge.alpha_)\n",
    "print 'Gain: %r' %((log_baseline - test_error)/log_baseline)[0]"
   ]
  },
  {
   "cell_type": "code",
   "execution_count": 183,
   "metadata": {
    "collapsed": false
   },
   "outputs": [
    {
     "data": {
      "text/plain": [
       "[<matplotlib.lines.Line2D at 0x118ae6810>]"
      ]
     },
     "execution_count": 183,
     "metadata": {},
     "output_type": "execute_result"
    },
    {
     "data": {
      "image/png": "[encoded data removed]",
      "text/plain": [
       "<matplotlib.figure.Figure at 0x118ae6590>"
      ]
     },
     "metadata": {},
     "output_type": "display_data"
    }
   ],
   "source": [
    "plt.plot(log_model_lasso.alphas_, log_model_lasso.mse_path_);\n",
    "plt.plot(log_model_lasso.alphas_, log_model_lasso.mse_path_.mean(1), lw=5)"
   ]
  },
  {
   "cell_type": "code",
   "execution_count": 184,
   "metadata": {
    "collapsed": false
   },
   "outputs": [
    {
     "data": {
      "text/html": [
       "<table class=\"simpletable\">\n",
       "<caption>OLS Regression Results</caption>\n",
       "<tr>\n",
       "  <th>Dep. Variable:</th>       <td>log_ratings</td>   <th>  R-squared:         </th> <td>   0.064</td>\n",
       "</tr>\n",
       "<tr>\n",
       "  <th>Model:</th>                   <td>OLS</td>       <th>  Adj. R-squared:    </th> <td>   0.027</td>\n",
       "</tr>\n",
       "<tr>\n",
       "  <th>Method:</th>             <td>Least Squares</td>  <th>  F-statistic:       </th> <td>   1.712</td>\n",
       "</tr>\n",
       "<tr>\n",
       "  <th>Date:</th>             <td>Mon, 19 Sep 2016</td> <th>  Prob (F-statistic):</th>  <td>0.0107</td> \n",
       "</tr>\n",
       "<tr>\n",
       "  <th>Time:</th>                 <td>20:54:23</td>     <th>  Log-Likelihood:    </th> <td> -64.527</td>\n",
       "</tr>\n",
       "<tr>\n",
       "  <th>No. Observations:</th>      <td>   777</td>      <th>  AIC:               </th> <td>   191.1</td>\n",
       "</tr>\n",
       "<tr>\n",
       "  <th>Df Residuals:</th>          <td>   746</td>      <th>  BIC:               </th> <td>   335.4</td>\n",
       "</tr>\n",
       "<tr>\n",
       "  <th>Df Model:</th>              <td>    30</td>      <th>                     </th>     <td> </td>   \n",
       "</tr>\n",
       "<tr>\n",
       "  <th>Covariance Type:</th>      <td>nonrobust</td>    <th>                     </th>     <td> </td>   \n",
       "</tr>\n",
       "</table>\n",
       "<table class=\"simpletable\">\n",
       "<tr>\n",
       "               <td></td>                  <th>coef</th>     <th>std err</th>      <th>t</th>      <th>P>|t|</th> <th>[95.0% Conf. Int.]</th> \n",
       "</tr>\n",
       "<tr>\n",
       "  <th>Intercept</th>                   <td>    4.2221</td> <td>    0.082</td> <td>   51.654</td> <td> 0.000</td> <td>    4.062     4.383</td>\n",
       "</tr>\n",
       "<tr>\n",
       "  <th>day_released[T.Monday]</th>      <td>    0.0210</td> <td>    0.138</td> <td>    0.153</td> <td> 0.879</td> <td>   -0.250     0.292</td>\n",
       "</tr>\n",
       "<tr>\n",
       "  <th>day_released[T.Saturday]</th>    <td>   -0.0276</td> <td>    0.125</td> <td>   -0.221</td> <td> 0.825</td> <td>   -0.272     0.217</td>\n",
       "</tr>\n",
       "<tr>\n",
       "  <th>day_released[T.Sunday]</th>      <td>    0.1763</td> <td>    0.192</td> <td>    0.916</td> <td> 0.360</td> <td>   -0.201     0.554</td>\n",
       "</tr>\n",
       "<tr>\n",
       "  <th>day_released[T.Thursday]</th>    <td>   -0.0199</td> <td>    0.051</td> <td>   -0.392</td> <td> 0.695</td> <td>   -0.120     0.080</td>\n",
       "</tr>\n",
       "<tr>\n",
       "  <th>day_released[T.Tuesday]</th>     <td>   -0.0600</td> <td>    0.274</td> <td>   -0.219</td> <td> 0.827</td> <td>   -0.598     0.478</td>\n",
       "</tr>\n",
       "<tr>\n",
       "  <th>day_released[T.Wednesday]</th>   <td>   -0.0252</td> <td>    0.036</td> <td>   -0.702</td> <td> 0.483</td> <td>   -0.096     0.045</td>\n",
       "</tr>\n",
       "<tr>\n",
       "  <th>genre[T.Adventure]</th>          <td>    0.1365</td> <td>    0.048</td> <td>    2.827</td> <td> 0.005</td> <td>    0.042     0.231</td>\n",
       "</tr>\n",
       "<tr>\n",
       "  <th>genre[T.Animation]</th>          <td>    0.1172</td> <td>    0.054</td> <td>    2.177</td> <td> 0.030</td> <td>    0.012     0.223</td>\n",
       "</tr>\n",
       "<tr>\n",
       "  <th>genre[T.Biography]</th>          <td>    0.1209</td> <td>    0.044</td> <td>    2.735</td> <td> 0.006</td> <td>    0.034     0.208</td>\n",
       "</tr>\n",
       "<tr>\n",
       "  <th>genre[T.Comedy]</th>             <td>    0.0356</td> <td>    0.036</td> <td>    0.982</td> <td> 0.327</td> <td>   -0.036     0.107</td>\n",
       "</tr>\n",
       "<tr>\n",
       "  <th>genre[T.Crime]</th>              <td>    0.0887</td> <td>    0.044</td> <td>    2.005</td> <td> 0.045</td> <td>    0.002     0.176</td>\n",
       "</tr>\n",
       "<tr>\n",
       "  <th>genre[T.Documentary]</th>        <td>    0.1844</td> <td>    0.109</td> <td>    1.687</td> <td> 0.092</td> <td>   -0.030     0.399</td>\n",
       "</tr>\n",
       "<tr>\n",
       "  <th>genre[T.Drama]</th>              <td>    0.0429</td> <td>    0.036</td> <td>    1.180</td> <td> 0.238</td> <td>   -0.028     0.114</td>\n",
       "</tr>\n",
       "<tr>\n",
       "  <th>genre[T.Fantasy]</th>            <td>   -0.0307</td> <td>    0.138</td> <td>   -0.223</td> <td> 0.824</td> <td>   -0.301     0.240</td>\n",
       "</tr>\n",
       "<tr>\n",
       "  <th>genre[T.Horror]</th>             <td>   -0.0508</td> <td>    0.088</td> <td>   -0.576</td> <td> 0.565</td> <td>   -0.224     0.122</td>\n",
       "</tr>\n",
       "<tr>\n",
       "  <th>genre[T.Mystery]</th>            <td>    0.2479</td> <td>    0.138</td> <td>    1.793</td> <td> 0.073</td> <td>   -0.024     0.519</td>\n",
       "</tr>\n",
       "<tr>\n",
       "  <th>month_released[T.August]</th>    <td>   -0.0023</td> <td>    0.047</td> <td>   -0.047</td> <td> 0.962</td> <td>   -0.095     0.091</td>\n",
       "</tr>\n",
       "<tr>\n",
       "  <th>month_released[T.December]</th>  <td>   -0.0416</td> <td>    0.050</td> <td>   -0.828</td> <td> 0.408</td> <td>   -0.140     0.057</td>\n",
       "</tr>\n",
       "<tr>\n",
       "  <th>month_released[T.February]</th>  <td>   -0.0714</td> <td>    0.057</td> <td>   -1.251</td> <td> 0.211</td> <td>   -0.184     0.041</td>\n",
       "</tr>\n",
       "<tr>\n",
       "  <th>month_released[T.January]</th>   <td>    0.0447</td> <td>    0.049</td> <td>    0.910</td> <td> 0.363</td> <td>   -0.052     0.141</td>\n",
       "</tr>\n",
       "<tr>\n",
       "  <th>month_released[T.July]</th>      <td>    0.0225</td> <td>    0.050</td> <td>    0.451</td> <td> 0.652</td> <td>   -0.075     0.120</td>\n",
       "</tr>\n",
       "<tr>\n",
       "  <th>month_released[T.June]</th>      <td>   -0.0349</td> <td>    0.047</td> <td>   -0.746</td> <td> 0.456</td> <td>   -0.127     0.057</td>\n",
       "</tr>\n",
       "<tr>\n",
       "  <th>month_released[T.March]</th>     <td>   -0.0749</td> <td>    0.050</td> <td>   -1.504</td> <td> 0.133</td> <td>   -0.173     0.023</td>\n",
       "</tr>\n",
       "<tr>\n",
       "  <th>month_released[T.May]</th>       <td>   -0.0930</td> <td>    0.050</td> <td>   -1.852</td> <td> 0.064</td> <td>   -0.192     0.006</td>\n",
       "</tr>\n",
       "<tr>\n",
       "  <th>month_released[T.November]</th>  <td>   -0.0116</td> <td>    0.048</td> <td>   -0.242</td> <td> 0.809</td> <td>   -0.106     0.082</td>\n",
       "</tr>\n",
       "<tr>\n",
       "  <th>month_released[T.October]</th>   <td>   -0.0837</td> <td>    0.045</td> <td>   -1.863</td> <td> 0.063</td> <td>   -0.172     0.004</td>\n",
       "</tr>\n",
       "<tr>\n",
       "  <th>month_released[T.September]</th> <td>   -0.0891</td> <td>    0.048</td> <td>   -1.853</td> <td> 0.064</td> <td>   -0.184     0.005</td>\n",
       "</tr>\n",
       "<tr>\n",
       "  <th>runtime_minutes</th>             <td>    0.0004</td> <td>    0.001</td> <td>    0.724</td> <td> 0.469</td> <td>   -0.001     0.002</td>\n",
       "</tr>\n",
       "<tr>\n",
       "  <th>budget</th>                      <td>-3.486e-10</td> <td> 3.05e-10</td> <td>   -1.142</td> <td> 0.254</td> <td>-9.48e-10  2.51e-10</td>\n",
       "</tr>\n",
       "<tr>\n",
       "  <th>usa_dummy</th>                   <td>   -0.0224</td> <td>    0.026</td> <td>   -0.852</td> <td> 0.394</td> <td>   -0.074     0.029</td>\n",
       "</tr>\n",
       "</table>\n",
       "<table class=\"simpletable\">\n",
       "<tr>\n",
       "  <th>Omnibus:</th>       <td>297.028</td> <th>  Durbin-Watson:     </th> <td>   1.474</td> \n",
       "</tr>\n",
       "<tr>\n",
       "  <th>Prob(Omnibus):</th> <td> 0.000</td>  <th>  Jarque-Bera (JB):  </th> <td>1130.077</td> \n",
       "</tr>\n",
       "<tr>\n",
       "  <th>Skew:</th>          <td>-1.799</td>  <th>  Prob(JB):          </th> <td>4.05e-246</td>\n",
       "</tr>\n",
       "<tr>\n",
       "  <th>Kurtosis:</th>      <td> 7.686</td>  <th>  Cond. No.          </th> <td>1.81e+09</td> \n",
       "</tr>\n",
       "</table>"
      ],
      "text/plain": [
       "<class 'statsmodels.iolib.summary.Summary'>\n",
       "\"\"\"\n",
       "                            OLS Regression Results                            \n",
       "==============================================================================\n",
       "Dep. Variable:            log_ratings   R-squared:                       0.064\n",
       "Model:                            OLS   Adj. R-squared:                  0.027\n",
       "Method:                 Least Squares   F-statistic:                     1.712\n",
       "Date:                Mon, 19 Sep 2016   Prob (F-statistic):             0.0107\n",
       "Time:                        20:54:23   Log-Likelihood:                -64.527\n",
       "No. Observations:                 777   AIC:                             191.1\n",
       "Df Residuals:                     746   BIC:                             335.4\n",
       "Df Model:                          30                                         \n",
       "Covariance Type:            nonrobust                                         \n",
       "===============================================================================================\n",
       "                                  coef    std err          t      P>|t|      [95.0% Conf. Int.]\n",
       "-----------------------------------------------------------------------------------------------\n",
       "Intercept                       4.2221      0.082     51.654      0.000         4.062     4.383\n",
       "day_released[T.Monday]          0.0210      0.138      0.153      0.879        -0.250     0.292\n",
       "day_released[T.Saturday]       -0.0276      0.125     -0.221      0.825        -0.272     0.217\n",
       "day_released[T.Sunday]          0.1763      0.192      0.916      0.360        -0.201     0.554\n",
       "day_released[T.Thursday]       -0.0199      0.051     -0.392      0.695        -0.120     0.080\n",
       "day_released[T.Tuesday]        -0.0600      0.274     -0.219      0.827        -0.598     0.478\n",
       "day_released[T.Wednesday]      -0.0252      0.036     -0.702      0.483        -0.096     0.045\n",
       "genre[T.Adventure]              0.1365      0.048      2.827      0.005         0.042     0.231\n",
       "genre[T.Animation]              0.1172      0.054      2.177      0.030         0.012     0.223\n",
       "genre[T.Biography]              0.1209      0.044      2.735      0.006         0.034     0.208\n",
       "genre[T.Comedy]                 0.0356      0.036      0.982      0.327        -0.036     0.107\n",
       "genre[T.Crime]                  0.0887      0.044      2.005      0.045         0.002     0.176\n",
       "genre[T.Documentary]            0.1844      0.109      1.687      0.092        -0.030     0.399\n",
       "genre[T.Drama]                  0.0429      0.036      1.180      0.238        -0.028     0.114\n",
       "genre[T.Fantasy]               -0.0307      0.138     -0.223      0.824        -0.301     0.240\n",
       "genre[T.Horror]                -0.0508      0.088     -0.576      0.565        -0.224     0.122\n",
       "genre[T.Mystery]                0.2479      0.138      1.793      0.073        -0.024     0.519\n",
       "month_released[T.August]       -0.0023      0.047     -0.047      0.962        -0.095     0.091\n",
       "month_released[T.December]     -0.0416      0.050     -0.828      0.408        -0.140     0.057\n",
       "month_released[T.February]     -0.0714      0.057     -1.251      0.211        -0.184     0.041\n",
       "month_released[T.January]       0.0447      0.049      0.910      0.363        -0.052     0.141\n",
       "month_released[T.July]          0.0225      0.050      0.451      0.652        -0.075     0.120\n",
       "month_released[T.June]         -0.0349      0.047     -0.746      0.456        -0.127     0.057\n",
       "month_released[T.March]        -0.0749      0.050     -1.504      0.133        -0.173     0.023\n",
       "month_released[T.May]          -0.0930      0.050     -1.852      0.064        -0.192     0.006\n",
       "month_released[T.November]     -0.0116      0.048     -0.242      0.809        -0.106     0.082\n",
       "month_released[T.October]      -0.0837      0.045     -1.863      0.063        -0.172     0.004\n",
       "month_released[T.September]    -0.0891      0.048     -1.853      0.064        -0.184     0.005\n",
       "runtime_minutes                 0.0004      0.001      0.724      0.469        -0.001     0.002\n",
       "budget                      -3.486e-10   3.05e-10     -1.142      0.254     -9.48e-10  2.51e-10\n",
       "usa_dummy                      -0.0224      0.026     -0.852      0.394        -0.074     0.029\n",
       "==============================================================================\n",
       "Omnibus:                      297.028   Durbin-Watson:                   1.474\n",
       "Prob(Omnibus):                  0.000   Jarque-Bera (JB):             1130.077\n",
       "Skew:                          -1.799   Prob(JB):                    4.05e-246\n",
       "Kurtosis:                       7.686   Cond. No.                     1.81e+09\n",
       "==============================================================================\n",
       "\n",
       "Warnings:\n",
       "[1] Standard Errors assume that the covariance matrix of the errors is correctly specified.\n",
       "[2] The condition number is large, 1.81e+09. This might indicate that there are\n",
       "strong multicollinearity or other numerical problems.\n",
       "\"\"\""
      ]
     },
     "execution_count": 184,
     "metadata": {},
     "output_type": "execute_result"
    }
   ],
   "source": [
    "model = sm.OLS(log_y, log_X)\n",
    "results = model.fit()\n",
    "results.summary()"
   ]
  },
  {
   "cell_type": "markdown",
   "metadata": {},
   "source": [
    "## Box_Cox Transform"
   ]
  },
  {
   "cell_type": "code",
   "execution_count": 233,
   "metadata": {
    "collapsed": false
   },
   "outputs": [
    {
     "data": {
      "text/plain": [
       "925597.45009915682"
      ]
     },
     "execution_count": 233,
     "metadata": {},
     "output_type": "execute_result"
    }
   ],
   "source": [
    "box_cox_baseline = sum((box_cox_y.values-box_cox_y.values.mean())**2)/len(box_cox_y)\n",
    "box_cox_baseline[0]"
   ]
  },
  {
   "cell_type": "code",
   "execution_count": 234,
   "metadata": {
    "collapsed": false
   },
   "outputs": [
    {
     "name": "stdout",
     "output_type": "stream",
     "text": [
      "Training Error: 859057.24385728757\n",
      "Test Error: 861112.54022404202\n",
      "Gain: 0.069668417807554131\n"
     ]
    }
   ],
   "source": [
    "reg = linear_model.LinearRegression()\n",
    "\n",
    "reg.fit(box_cox_X_train, box_cox_y_train)\n",
    "\n",
    "training_error = sklearn.metrics.mean_squared_error(box_cox_y_train, reg.predict(box_cox_X_train))\n",
    "print 'Training Error: %r' %training_error\n",
    "test_error = sklearn.metrics.mean_squared_error(box_cox_y_test, reg.predict(box_cox_X_test))\n",
    "print 'Test Error: %r' %test_error\n",
    "print 'Gain: %r' %((box_cox_baseline - test_error)/box_cox_baseline)[0]"
   ]
  },
  {
   "cell_type": "code",
   "execution_count": 228,
   "metadata": {
    "collapsed": false
   },
   "outputs": [
    {
     "name": "stdout",
     "output_type": "stream",
     "text": [
      "Training error: 936806.35031433078\n",
      "Test Error: 868585.47518111207\n",
      "--------\n",
      "('alpha=', 107332290.08462468)\n",
      "--------\n",
      "Gain: 0.061594783900860157\n",
      "--------\n"
     ]
    }
   ],
   "source": [
    "#Train on log y on lasso\n",
    "\n",
    "box_cox_model_lasso = sklearn.linear_model.LassoCV(eps=0.001, n_alphas=100, cv=10).fit(box_cox_X_train, sklearn.utils.column_or_1d(box_cox_y_train))\n",
    "\n",
    "#model_lasso1.predict(x_test,y_test)\n",
    "training_error = sklearn.metrics.mean_squared_error(box_cox_y_train, box_cox_model_lasso.predict(box_cox_X_train))\n",
    "test_error = sklearn.metrics.mean_squared_error(box_cox_y_test, box_cox_model_lasso.predict(box_cox_X_test))\n",
    "print'Training error: %r' %(sklearn.metrics.mean_squared_error(box_cox_y_train, box_cox_model_lasso.predict(box_cox_X_train)))\n",
    "print'Test Error: %r' %(sklearn.metrics.mean_squared_error(box_cox_y_test, box_cox_model_lasso.predict(box_cox_X_test)))\n",
    "print '--------'\n",
    "\n",
    "print('alpha=', box_cox_model_lasso.alpha_)\n",
    "print '--------'\n",
    "print 'Gain: %r' %((box_cox_baseline - test_error)/box_cox_baseline)[0]\n",
    "print '--------'\n",
    "\n",
    "#m_alphas = box_cox_model_lasso.alphas_"
   ]
  },
  {
   "cell_type": "code",
   "execution_count": 229,
   "metadata": {
    "collapsed": false
   },
   "outputs": [
    {
     "name": "stdout",
     "output_type": "stream",
     "text": [
      "Training error: 869443.45109871449\n",
      "Test Error: 853383.41479699197\n",
      "--------\n",
      "('alpha=', 10.0)\n",
      "--------\n",
      "Gain: 0.078018835611991744\n",
      "--------\n"
     ]
    }
   ],
   "source": [
    "#Ridge\n",
    "\n",
    "box_cox_model_ridge = sklearn.linear_model.RidgeCV(cv=10).fit(box_cox_X_train, sklearn.utils.column_or_1d(box_cox_y_train))\n",
    "\n",
    "#model_lasso1.predict(x_test,y_test)\n",
    "print'Training error: %r' %(sklearn.metrics.mean_squared_error(box_cox_y_train, box_cox_model_ridge.predict(box_cox_X_train)))\n",
    "print'Test Error: %r' %(sklearn.metrics.mean_squared_error(box_cox_y_test, box_cox_model_ridge.predict(box_cox_X_test)))\n",
    "print '--------'\n",
    "training_error = sklearn.metrics.mean_squared_error(box_cox_y_train, box_cox_model_ridge.predict(box_cox_X_train))\n",
    "test_error = sklearn.metrics.mean_squared_error(box_cox_y_test, box_cox_model_ridge.predict(box_cox_X_test))\n",
    "print('alpha=', box_cox_model_ridge.alpha_)\n",
    "print '--------'\n",
    "print 'Gain: %r' %((box_cox_baseline - test_error)/box_cox_baseline)[0]\n",
    "print '--------'"
   ]
  },
  {
   "cell_type": "code",
   "execution_count": 230,
   "metadata": {
    "collapsed": false
   },
   "outputs": [
    {
     "data": {
      "text/plain": [
       "[<matplotlib.lines.Line2D at 0x11bead790>]"
      ]
     },
     "execution_count": 230,
     "metadata": {},
     "output_type": "execute_result"
    },
    {
     "data": {
      "image/png": "[encoded data removed]",
      "text/plain": [
       "<matplotlib.figure.Figure at 0x11bead6d0>"
      ]
     },
     "metadata": {},
     "output_type": "display_data"
    }
   ],
   "source": [
    "plt.plot(box_cox_model_lasso.alphas_, box_cox_model_lasso.mse_path_);\n",
    "plt.plot(box_cox_model_lasso.alphas_, box_cox_model_lasso.mse_path_.mean(1), lw=5)"
   ]
  },
  {
   "cell_type": "code",
   "execution_count": 235,
   "metadata": {
    "collapsed": false
   },
   "outputs": [
    {
     "data": {
      "text/html": [
       "<table class=\"simpletable\">\n",
       "<caption>OLS Regression Results</caption>\n",
       "<tr>\n",
       "  <th>Dep. Variable:</th>     <td>box_cox_ratings</td> <th>  R-squared:         </th> <td>   0.086</td> \n",
       "</tr>\n",
       "<tr>\n",
       "  <th>Model:</th>                   <td>OLS</td>       <th>  Adj. R-squared:    </th> <td>   0.041</td> \n",
       "</tr>\n",
       "<tr>\n",
       "  <th>Method:</th>             <td>Least Squares</td>  <th>  F-statistic:       </th> <td>   1.917</td> \n",
       "</tr>\n",
       "<tr>\n",
       "  <th>Date:</th>             <td>Mon, 19 Sep 2016</td> <th>  Prob (F-statistic):</th>  <td>0.00297</td> \n",
       "</tr>\n",
       "<tr>\n",
       "  <th>Time:</th>                 <td>21:07:41</td>     <th>  Log-Likelihood:    </th> <td> -5123.7</td> \n",
       "</tr>\n",
       "<tr>\n",
       "  <th>No. Observations:</th>      <td>   621</td>      <th>  AIC:               </th> <td>1.031e+04</td>\n",
       "</tr>\n",
       "<tr>\n",
       "  <th>Df Residuals:</th>          <td>   591</td>      <th>  BIC:               </th> <td>1.044e+04</td>\n",
       "</tr>\n",
       "<tr>\n",
       "  <th>Df Model:</th>              <td>    29</td>      <th>                     </th>     <td> </td>    \n",
       "</tr>\n",
       "<tr>\n",
       "  <th>Covariance Type:</th>      <td>nonrobust</td>    <th>                     </th>     <td> </td>    \n",
       "</tr>\n",
       "</table>\n",
       "<table class=\"simpletable\">\n",
       "<tr>\n",
       "               <td></td>                  <th>coef</th>     <th>std err</th>      <th>t</th>      <th>P>|t|</th> <th>[95.0% Conf. Int.]</th> \n",
       "</tr>\n",
       "<tr>\n",
       "  <th>Intercept</th>                   <td> 2050.3416</td> <td>  326.649</td> <td>    6.277</td> <td> 0.000</td> <td> 1408.807  2691.876</td>\n",
       "</tr>\n",
       "<tr>\n",
       "  <th>day_released[T.Monday]</th>      <td>  379.9944</td> <td>  681.494</td> <td>    0.558</td> <td> 0.577</td> <td> -958.450  1718.439</td>\n",
       "</tr>\n",
       "<tr>\n",
       "  <th>day_released[T.Saturday]</th>    <td>  179.0122</td> <td>  565.681</td> <td>    0.316</td> <td> 0.752</td> <td> -931.978  1290.003</td>\n",
       "</tr>\n",
       "<tr>\n",
       "  <th>day_released[T.Sunday]</th>      <td>  -14.8888</td> <td>  963.369</td> <td>   -0.015</td> <td> 0.988</td> <td>-1906.932  1877.154</td>\n",
       "</tr>\n",
       "<tr>\n",
       "  <th>day_released[T.Thursday]</th>    <td> -194.2141</td> <td>  204.493</td> <td>   -0.950</td> <td> 0.343</td> <td> -595.836   207.408</td>\n",
       "</tr>\n",
       "<tr>\n",
       "  <th>day_released[T.Tuesday]</th>     <td>-1.398e-07</td> <td> 4.12e-07</td> <td>   -0.339</td> <td> 0.734</td> <td>-9.49e-07  6.69e-07</td>\n",
       "</tr>\n",
       "<tr>\n",
       "  <th>day_released[T.Wednesday]</th>   <td> -171.5240</td> <td>  134.330</td> <td>   -1.277</td> <td> 0.202</td> <td> -435.347    92.299</td>\n",
       "</tr>\n",
       "<tr>\n",
       "  <th>genre[T.Adventure]</th>          <td>  452.5376</td> <td>  195.052</td> <td>    2.320</td> <td> 0.021</td> <td>   69.458   835.617</td>\n",
       "</tr>\n",
       "<tr>\n",
       "  <th>genre[T.Animation]</th>          <td>  403.3263</td> <td>  215.236</td> <td>    1.874</td> <td> 0.061</td> <td>  -19.395   826.048</td>\n",
       "</tr>\n",
       "<tr>\n",
       "  <th>genre[T.Biography]</th>          <td>  453.3434</td> <td>  172.463</td> <td>    2.629</td> <td> 0.009</td> <td>  114.629   792.058</td>\n",
       "</tr>\n",
       "<tr>\n",
       "  <th>genre[T.Comedy]</th>             <td>   96.3374</td> <td>  145.406</td> <td>    0.663</td> <td> 0.508</td> <td> -189.238   381.912</td>\n",
       "</tr>\n",
       "<tr>\n",
       "  <th>genre[T.Crime]</th>              <td>  233.4233</td> <td>  172.923</td> <td>    1.350</td> <td> 0.178</td> <td> -106.196   573.043</td>\n",
       "</tr>\n",
       "<tr>\n",
       "  <th>genre[T.Documentary]</th>        <td> 1034.1234</td> <td>  448.395</td> <td>    2.306</td> <td> 0.021</td> <td>  153.483  1914.764</td>\n",
       "</tr>\n",
       "<tr>\n",
       "  <th>genre[T.Drama]</th>              <td>  239.0619</td> <td>  143.530</td> <td>    1.666</td> <td> 0.096</td> <td>  -42.829   520.952</td>\n",
       "</tr>\n",
       "<tr>\n",
       "  <th>genre[T.Fantasy]</th>            <td> -355.3833</td> <td>  564.582</td> <td>   -0.629</td> <td> 0.529</td> <td>-1464.215   753.449</td>\n",
       "</tr>\n",
       "<tr>\n",
       "  <th>genre[T.Horror]</th>             <td> -168.4048</td> <td>  361.909</td> <td>   -0.465</td> <td> 0.642</td> <td> -879.189   542.379</td>\n",
       "</tr>\n",
       "<tr>\n",
       "  <th>genre[T.Mystery]</th>            <td>  897.2021</td> <td>  568.403</td> <td>    1.578</td> <td> 0.115</td> <td> -219.134  2013.538</td>\n",
       "</tr>\n",
       "<tr>\n",
       "  <th>month_released[T.August]</th>    <td>   -9.1587</td> <td>  191.400</td> <td>   -0.048</td> <td> 0.962</td> <td> -385.067   366.749</td>\n",
       "</tr>\n",
       "<tr>\n",
       "  <th>month_released[T.December]</th>  <td> -153.2119</td> <td>  208.408</td> <td>   -0.735</td> <td> 0.463</td> <td> -562.523   256.099</td>\n",
       "</tr>\n",
       "<tr>\n",
       "  <th>month_released[T.February]</th>  <td> -221.4095</td> <td>  239.131</td> <td>   -0.926</td> <td> 0.355</td> <td> -691.059   248.240</td>\n",
       "</tr>\n",
       "<tr>\n",
       "  <th>month_released[T.January]</th>   <td>  217.2164</td> <td>  201.400</td> <td>    1.079</td> <td> 0.281</td> <td> -178.331   612.763</td>\n",
       "</tr>\n",
       "<tr>\n",
       "  <th>month_released[T.July]</th>      <td>   11.8314</td> <td>  199.003</td> <td>    0.059</td> <td> 0.953</td> <td> -379.008   402.671</td>\n",
       "</tr>\n",
       "<tr>\n",
       "  <th>month_released[T.June]</th>      <td>  -36.6958</td> <td>  188.448</td> <td>   -0.195</td> <td> 0.846</td> <td> -406.805   333.414</td>\n",
       "</tr>\n",
       "<tr>\n",
       "  <th>month_released[T.March]</th>     <td> -371.0144</td> <td>  197.897</td> <td>   -1.875</td> <td> 0.061</td> <td> -759.681    17.652</td>\n",
       "</tr>\n",
       "<tr>\n",
       "  <th>month_released[T.May]</th>       <td> -218.3538</td> <td>  198.363</td> <td>   -1.101</td> <td> 0.271</td> <td> -607.935   171.227</td>\n",
       "</tr>\n",
       "<tr>\n",
       "  <th>month_released[T.November]</th>  <td>  108.9762</td> <td>  193.884</td> <td>    0.562</td> <td> 0.574</td> <td> -271.810   489.762</td>\n",
       "</tr>\n",
       "<tr>\n",
       "  <th>month_released[T.October]</th>   <td> -286.7504</td> <td>  182.793</td> <td>   -1.569</td> <td> 0.117</td> <td> -645.754    72.253</td>\n",
       "</tr>\n",
       "<tr>\n",
       "  <th>month_released[T.September]</th> <td> -334.9018</td> <td>  192.447</td> <td>   -1.740</td> <td> 0.082</td> <td> -712.865    43.061</td>\n",
       "</tr>\n",
       "<tr>\n",
       "  <th>runtime_minutes</th>             <td>    4.1956</td> <td>    2.530</td> <td>    1.658</td> <td> 0.098</td> <td>   -0.774     9.165</td>\n",
       "</tr>\n",
       "<tr>\n",
       "  <th>budget</th>                      <td>-1.487e-06</td> <td> 1.19e-06</td> <td>   -1.249</td> <td> 0.212</td> <td>-3.83e-06  8.51e-07</td>\n",
       "</tr>\n",
       "<tr>\n",
       "  <th>usa_dummy</th>                   <td>  -37.8760</td> <td>  103.127</td> <td>   -0.367</td> <td> 0.714</td> <td> -240.417   164.664</td>\n",
       "</tr>\n",
       "</table>\n",
       "<table class=\"simpletable\">\n",
       "<tr>\n",
       "  <th>Omnibus:</th>       <td> 8.816</td> <th>  Durbin-Watson:     </th> <td>   1.920</td>\n",
       "</tr>\n",
       "<tr>\n",
       "  <th>Prob(Omnibus):</th> <td> 0.012</td> <th>  Jarque-Bera (JB):  </th> <td>   7.359</td>\n",
       "</tr>\n",
       "<tr>\n",
       "  <th>Skew:</th>          <td>-0.188</td> <th>  Prob(JB):          </th> <td>  0.0252</td>\n",
       "</tr>\n",
       "<tr>\n",
       "  <th>Kurtosis:</th>      <td> 2.622</td> <th>  Cond. No.          </th> <td>1.33e+16</td>\n",
       "</tr>\n",
       "</table>"
      ],
      "text/plain": [
       "<class 'statsmodels.iolib.summary.Summary'>\n",
       "\"\"\"\n",
       "                            OLS Regression Results                            \n",
       "==============================================================================\n",
       "Dep. Variable:        box_cox_ratings   R-squared:                       0.086\n",
       "Model:                            OLS   Adj. R-squared:                  0.041\n",
       "Method:                 Least Squares   F-statistic:                     1.917\n",
       "Date:                Mon, 19 Sep 2016   Prob (F-statistic):            0.00297\n",
       "Time:                        21:07:41   Log-Likelihood:                -5123.7\n",
       "No. Observations:                 621   AIC:                         1.031e+04\n",
       "Df Residuals:                     591   BIC:                         1.044e+04\n",
       "Df Model:                          29                                         \n",
       "Covariance Type:            nonrobust                                         \n",
       "===============================================================================================\n",
       "                                  coef    std err          t      P>|t|      [95.0% Conf. Int.]\n",
       "-----------------------------------------------------------------------------------------------\n",
       "Intercept                    2050.3416    326.649      6.277      0.000      1408.807  2691.876\n",
       "day_released[T.Monday]        379.9944    681.494      0.558      0.577      -958.450  1718.439\n",
       "day_released[T.Saturday]      179.0122    565.681      0.316      0.752      -931.978  1290.003\n",
       "day_released[T.Sunday]        -14.8888    963.369     -0.015      0.988     -1906.932  1877.154\n",
       "day_released[T.Thursday]     -194.2141    204.493     -0.950      0.343      -595.836   207.408\n",
       "day_released[T.Tuesday]     -1.398e-07   4.12e-07     -0.339      0.734     -9.49e-07  6.69e-07\n",
       "day_released[T.Wednesday]    -171.5240    134.330     -1.277      0.202      -435.347    92.299\n",
       "genre[T.Adventure]            452.5376    195.052      2.320      0.021        69.458   835.617\n",
       "genre[T.Animation]            403.3263    215.236      1.874      0.061       -19.395   826.048\n",
       "genre[T.Biography]            453.3434    172.463      2.629      0.009       114.629   792.058\n",
       "genre[T.Comedy]                96.3374    145.406      0.663      0.508      -189.238   381.912\n",
       "genre[T.Crime]                233.4233    172.923      1.350      0.178      -106.196   573.043\n",
       "genre[T.Documentary]         1034.1234    448.395      2.306      0.021       153.483  1914.764\n",
       "genre[T.Drama]                239.0619    143.530      1.666      0.096       -42.829   520.952\n",
       "genre[T.Fantasy]             -355.3833    564.582     -0.629      0.529     -1464.215   753.449\n",
       "genre[T.Horror]              -168.4048    361.909     -0.465      0.642      -879.189   542.379\n",
       "genre[T.Mystery]              897.2021    568.403      1.578      0.115      -219.134  2013.538\n",
       "month_released[T.August]       -9.1587    191.400     -0.048      0.962      -385.067   366.749\n",
       "month_released[T.December]   -153.2119    208.408     -0.735      0.463      -562.523   256.099\n",
       "month_released[T.February]   -221.4095    239.131     -0.926      0.355      -691.059   248.240\n",
       "month_released[T.January]     217.2164    201.400      1.079      0.281      -178.331   612.763\n",
       "month_released[T.July]         11.8314    199.003      0.059      0.953      -379.008   402.671\n",
       "month_released[T.June]        -36.6958    188.448     -0.195      0.846      -406.805   333.414\n",
       "month_released[T.March]      -371.0144    197.897     -1.875      0.061      -759.681    17.652\n",
       "month_released[T.May]        -218.3538    198.363     -1.101      0.271      -607.935   171.227\n",
       "month_released[T.November]    108.9762    193.884      0.562      0.574      -271.810   489.762\n",
       "month_released[T.October]    -286.7504    182.793     -1.569      0.117      -645.754    72.253\n",
       "month_released[T.September]  -334.9018    192.447     -1.740      0.082      -712.865    43.061\n",
       "runtime_minutes                 4.1956      2.530      1.658      0.098        -0.774     9.165\n",
       "budget                      -1.487e-06   1.19e-06     -1.249      0.212     -3.83e-06  8.51e-07\n",
       "usa_dummy                     -37.8760    103.127     -0.367      0.714      -240.417   164.664\n",
       "==============================================================================\n",
       "Omnibus:                        8.816   Durbin-Watson:                   1.920\n",
       "Prob(Omnibus):                  0.012   Jarque-Bera (JB):                7.359\n",
       "Skew:                          -0.188   Prob(JB):                       0.0252\n",
       "Kurtosis:                       2.622   Cond. No.                     1.33e+16\n",
       "==============================================================================\n",
       "\n",
       "Warnings:\n",
       "[1] Standard Errors assume that the covariance matrix of the errors is correctly specified.\n",
       "[2] The smallest eigenvalue is 1.44e-14. This might indicate that there are\n",
       "strong multicollinearity problems or that the design matrix is singular.\n",
       "\"\"\""
      ]
     },
     "execution_count": 235,
     "metadata": {},
     "output_type": "execute_result"
    }
   ],
   "source": [
    "model = sm.OLS(box_cox_y_train, box_cox_X_train)\n",
    "results = model.fit()\n",
    "results.summary()"
   ]
  },
  {
   "cell_type": "code",
   "execution_count": null,
   "metadata": {
    "collapsed": true
   },
   "outputs": [],
   "source": []
  },
  {
   "cell_type": "markdown",
   "metadata": {},
   "source": [
    "# Feature Selection"
   ]
  },
  {
   "cell_type": "markdown",
   "metadata": {},
   "source": [
    "### Linear Regression"
   ]
  },
  {
   "cell_type": "code",
   "execution_count": 210,
   "metadata": {
    "collapsed": false
   },
   "outputs": [
    {
     "name": "stdout",
     "output_type": "stream",
     "text": [
      "['Intercept', 'genre[T.Crime]', 'month_released[T.December]', 'genre[T.Adventure]', 'day_released[T.Monday]', 'genre[T.Mystery]', 'genre[T.Drama]', 'genre[T.Fantasy]', 'day_released[T.Wednesday]', 'month_released[T.February]', 'day_released[T.Thursday]', 'genre[T.Biography]', 'month_released[T.January]', 'month_released[T.March]', 'month_released[T.October]', 'month_released[T.June]', 'budget', 'genre[T.Animation]', 'month_released[T.September]', 'genre[T.Comedy]', 'runtime_minutes', 'genre[T.Horror]', 'day_released[T.Saturday]', 'genre[T.Documentary]', 'month_released[T.July]', 'day_released[T.Tuesday]', 'month_released[T.May]', 'month_released[T.August]', 'day_released[T.Sunday]', 'usa_dummy', 'month_released[T.November]']\n",
      "\n",
      "\n",
      "Best Features:\n",
      "['Intercept', 'genre[T.Adventure]', 'genre[T.Mystery]', 'genre[T.Drama]', 'genre[T.Fantasy]', 'genre[T.Biography]', 'month_released[T.January]']\n"
     ]
    },
    {
     "data": {
      "text/plain": [
       "<matplotlib.text.Text at 0x11bdc6790>"
      ]
     },
     "execution_count": 210,
     "metadata": {},
     "output_type": "execute_result"
    },
    {
     "data": {
      "image/png": "[encoded data removed]",
      "text/plain": [
       "<matplotlib.figure.Figure at 0x10f626510>"
      ]
     },
     "metadata": {},
     "output_type": "display_data"
    }
   ],
   "source": [
    "features = []\n",
    "train_score=[]\n",
    "feature_iter_test_score =[]\n",
    "best_features = []\n",
    "mean_score_test = 1e20\n",
    "\n",
    "lst_ = [i for i in X.columns if not i =='Intercept']\n",
    "shuffle(lst_)\n",
    "lst_.insert(0, \"Intercept\")\n",
    "print lst_\n",
    "\n",
    "for i in lst_:\n",
    "    features.append(i)\n",
    "    df_new = box_cox_X[features]\n",
    "    x_train, x_test, y_train, y_test = cross_validation.train_test_split(df_new,y,test_size=0.2,random_state=123)\n",
    "    reg = linear_model.LinearRegression()\n",
    "\n",
    "    reg.fit(x_train, y_train)\n",
    "    score_train = metrics.mean_squared_error(y_train, reg.predict(x_train))\n",
    "    score_test = metrics.mean_squared_error(y_test, reg.predict(x_test))\n",
    "    train_score.append(score_train)\n",
    "\n",
    "    if mean_score_test > score_test:\n",
    "        feature_iter_test_score.append(score_test)\n",
    "        mean_score_test = score_test\n",
    "        best_features.append(i)\n",
    "print ''\n",
    "print ''\n",
    "print 'Best Features:'\n",
    "print best_features\n",
    "plt.scatter(y = feature_iter_test_score, x = range(len(feature_iter_test_score)))\n",
    "plt.xlabel('Features')\n",
    "plt.ylabel('Mean Squared Error')\n",
    "plt.title('MSE by Iterating Features')"
   ]
  },
  {
   "cell_type": "markdown",
   "metadata": {},
   "source": [
    "### Lasso Regularization"
   ]
  },
  {
   "cell_type": "code",
   "execution_count": 219,
   "metadata": {
    "collapsed": false
   },
   "outputs": [
    {
     "name": "stdout",
     "output_type": "stream",
     "text": [
      "['Intercept', 'genre[T.Biography]', 'month_released[T.June]', 'day_released[T.Saturday]', 'month_released[T.February]', 'genre[T.Comedy]', 'month_released[T.September]', 'genre[T.Documentary]', 'day_released[T.Thursday]', 'genre[T.Adventure]', 'genre[T.Crime]', 'month_released[T.March]', 'month_released[T.January]', 'genre[T.Horror]', 'budget', 'genre[T.Drama]', 'genre[T.Mystery]', 'day_released[T.Wednesday]', 'month_released[T.August]', 'month_released[T.December]', 'day_released[T.Sunday]', 'day_released[T.Monday]', 'month_released[T.November]', 'month_released[T.July]', 'genre[T.Animation]', 'day_released[T.Tuesday]', 'runtime_minutes', 'usa_dummy', 'month_released[T.October]', 'genre[T.Fantasy]', 'month_released[T.May]']\n"
     ]
    }
   ],
   "source": [
    "features = []\n",
    "train_score=[]\n",
    "feature_iter_test_score =[]\n",
    "best_features = []\n",
    "mean_score_test = 1e20\n",
    "\n",
    "lst_ = [i for i in X.columns if not i =='Intercept']\n",
    "shuffle(lst_)\n",
    "lst_.insert(0, \"Intercept\")\n",
    "print lst_\n",
    "\n",
    "for i in lst_:\n",
    "    features.append(i)\n",
    "    df_new = box_cox_X[features]\n",
    "    x_train, x_test, y_train, y_test = cross_validation.train_test_split(df_new,y,test_size=0.2,random_state=1223)\n",
    "    model_lasso = sklearn.linear_model.LassoCV(eps=0.001, n_alphas=100, cv=10).fit(x_train, sklearn.utils.column_or_1d(y_train))\n",
    "    score_train = metrics.mean_squared_error(y_train, model_lasso.predict(x_train))\n",
    "    score_test = metrics.mean_squared_error(y_test, model_lasso.predict(x_test))\n",
    "    train_score.append(score_train)\n",
    "\n",
    "    if mean_score_test > score_test:\n",
    "        feature_iter_test_score.append(score_test)\n",
    "        mean_score_test = score_test\n",
    "        best_features.append(i)"
   ]
  },
  {
   "cell_type": "code",
   "execution_count": 221,
   "metadata": {
    "collapsed": false
   },
   "outputs": [
    {
     "name": "stdout",
     "output_type": "stream",
     "text": [
      "['Intercept', 'genre[T.Biography]', 'month_released[T.June]', 'month_released[T.February]', 'genre[T.Comedy]', 'month_released[T.September]', 'genre[T.Adventure]', 'genre[T.Crime]', 'month_released[T.January]']\n"
     ]
    },
    {
     "data": {
      "text/plain": [
       "<matplotlib.text.Text at 0x11a60e450>"
      ]
     },
     "execution_count": 221,
     "metadata": {},
     "output_type": "execute_result"
    },
    {
     "data": {
      "image/png": "[encoded data removed]",
      "text/plain": [
       "<matplotlib.figure.Figure at 0x11a3db050>"
      ]
     },
     "metadata": {},
     "output_type": "display_data"
    }
   ],
   "source": [
    "print best_features\n",
    "plt.scatter(y = feature_iter_test_score, x = range(len(feature_iter_test_score)))\n",
    "plt.xlabel('Features')\n",
    "plt.ylabel('Mean Squared Error')\n",
    "plt.title('MSE With Features Using Lasso Regression ')"
   ]
  },
  {
   "cell_type": "code",
   "execution_count": 226,
   "metadata": {
    "collapsed": false
   },
   "outputs": [
    {
     "name": "stdout",
     "output_type": "stream",
     "text": [
      "Training error: 908733.87031786353\n",
      "Test Error: 857379.2981939452\n",
      "--------\n",
      "('alpha=', 0.078913381577761607)\n",
      "--------\n",
      "Gain: 0.073701750040369704\n",
      "--------\n"
     ]
    }
   ],
   "source": [
    "bio = ['genre[T.Biography]',\n",
    "       'genre[T.Drama]', \n",
    "       'genre[T.Mystery]', \n",
    "       'month_released[T.January]',\n",
    "       'month_released[T.October]']\n",
    "\n",
    "box_cox_model_lasso = sklearn.linear_model.LassoCV(eps=0.001, n_alphas=100, cv=10).fit(box_cox_X_train[bio], sklearn.utils.column_or_1d(box_cox_y_train))\n",
    "\n",
    "training_error = sklearn.metrics.mean_squared_error(box_cox_y_train, box_cox_model_lasso.predict(box_cox_X_train[bio]))\n",
    "test_error = sklearn.metrics.mean_squared_error(box_cox_y_test, box_cox_model_lasso.predict(box_cox_X_test[bio]))\n",
    "#model_lasso1.predict(x_test,y_test)\n",
    "print'Training error: %r' %training_error\n",
    "print'Test Error: %r' %test_error\n",
    "print '--------'\n",
    "print('alpha=', box_cox_model_lasso.alpha_)\n",
    "print '--------'\n",
    "print 'Gain: %r' %((box_cox_baseline - test_error)/box_cox_baseline)[0]\n",
    "print '--------'\n"
   ]
  },
  {
   "cell_type": "code",
   "execution_count": 227,
   "metadata": {
    "collapsed": false
   },
   "outputs": [
    {
     "name": "stdout",
     "output_type": "stream",
     "text": [
      "Training Error: 908732.2906000386\n",
      "Test Error: 857355.29204917967\n",
      "Gain: 0.073727685877555682\n"
     ]
    }
   ],
   "source": [
    "\n",
    "reg = linear_model.LinearRegression()\n",
    "\n",
    "reg.fit(box_cox_X_train[bio], box_cox_y_train)\n",
    "\n",
    "training_error = sklearn.metrics.mean_squared_error(box_cox_y_train, reg.predict(box_cox_X_train[bio]))\n",
    "print 'Training Error: %r' %training_error\n",
    "test_error = sklearn.metrics.mean_squared_error(box_cox_y_test, reg.predict(box_cox_X_test[bio]))\n",
    "print 'Test Error: %r' %test_error\n",
    "print 'Gain: %r' %((box_cox_baseline - test_error)/box_cox_baseline)[0]"
   ]
  }
 ],
 "metadata": {
  "anaconda-cloud": {},
  "kernelspec": {
   "display_name": "Python [default]",
   "language": "python",
   "name": "python2"
  },
  "language_info": {
   "codemirror_mode": {
    "name": "ipython",
    "version": 2
   },
   "file_extension": ".py",
   "mimetype": "text/x-python",
   "name": "python",
   "nbconvert_exporter": "python",
   "pygments_lexer": "ipython2",
   "version": "2.7.12"
  }
 },
 "nbformat": 4,
 "nbformat_minor": 0
}
