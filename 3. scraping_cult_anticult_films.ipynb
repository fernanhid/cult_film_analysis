{
 "cells": [
  {
   "cell_type": "code",
   "execution_count": 19,
   "metadata": {
    "collapsed": false
   },
   "outputs": [],
   "source": [
    "import pandas as pd\n",
    "import requests\n",
    "from bs4 import BeautifulSoup as bf"
   ]
  },
  {
   "cell_type": "code",
   "execution_count": 20,
   "metadata": {
    "collapsed": false
   },
   "outputs": [],
   "source": [
    "cult_df = pd.read_pickle('movies_cult_2005_2015.pkl')"
   ]
  },
  {
   "cell_type": "code",
   "execution_count": 21,
   "metadata": {
    "collapsed": true
   },
   "outputs": [],
   "source": [
    "anti_cult_df = pd.read_pickle('movies_anti_cult_2005_2015.pkl')"
   ]
  },
  {
   "cell_type": "code",
   "execution_count": 24,
   "metadata": {
    "collapsed": false
   },
   "outputs": [],
   "source": [
    "cult_url_movie_names = [i.lower().replace(' ', '-') for i in cult_df.titles]\n",
    "\n",
    "cult_urls = []\n",
    "for movie_url in cult_url_movie_names:\n",
    "    cult_urls.append('http://www.metacritic.com/movie/'+movie_url+'/critic-reviews')\n",
    "    \n",
    "\n",
    "cult_bf_list = []\n",
    "for url in cult_urls:\n",
    "    request = requests.get(url, headers={'User-Agent': 'Mozilla/5.0 (Macintosh; Intel Mac OS X 10_11_5) AppleWebKit/537.36 (KHTML, like Gecko) Chrome/51.0.2704.103 Safari/537.36'})\n",
    "    cult_bf_list.append(bf(request.text, 'lxml'))\n",
    "    \n"
   ]
  },
  {
   "cell_type": "code",
   "execution_count": 155,
   "metadata": {
    "collapsed": true
   },
   "outputs": [],
   "source": [
    "anti_cult_url_movie_names = [i.lower().replace(' ', '-') for i in anti_cult_df.titles]    \n",
    "\n",
    "anti_cult_urls = []\n",
    "for movie_url in anti_cult_url_movie_names:\n",
    "    anti_cult_urls.append('http://www.metacritic.com/movie/'+movie_url+'/critic-reviews')\n",
    "\n",
    "anti_cult_bf_list = []\n",
    "for url in anti_cult_urls:\n",
    "    request = requests.get(url, headers={'User-Agent': 'Mozilla/5.0 (Macintosh; Intel Mac OS X 10_11_5) AppleWebKit/537.36 (KHTML, like Gecko) Chrome/51.0.2704.103 Safari/537.36'})\n",
    "    anti_cult_bf_list.append(bf(request.text, 'lxml'))"
   ]
  },
  {
   "cell_type": "code",
   "execution_count": 158,
   "metadata": {
    "collapsed": false
   },
   "outputs": [],
   "source": [
    "def soup_2_dict(bf_lst)\n",
    "    cult_dict_list = {}\n",
    "\n",
    "    for bf_obj in bf_lst:\n",
    "        critic = []\n",
    "        try:\n",
    "            for i, obj in enumerate(bf_obj.find_all('a', class_=\"external\")):\n",
    "                if i%2== 0:\n",
    "                    critic.append(obj.text)\n",
    "            review_dict = {}\n",
    "            for i, reviewer in enumerate(bf_obj.find_all('div', class_=\"source\")):\n",
    "\n",
    "                review = bf_obj.find_all('div', class_=\"review_grade has_author\")[i].text.replace('\\n', '')\n",
    "\n",
    "                review_dict[reviewer.text] = [int(review), critic[i]]\n",
    "\n",
    "            cult_dict_list[bf_obj.title.text.replace('Critic Reviews for ', '').split('-')[0].strip()] = review_dict\n",
    "        except:\n",
    "            pass"
   ]
  },
  {
   "cell_type": "code",
   "execution_count": null,
   "metadata": {
    "collapsed": true
   },
   "outputs": [],
   "source": [
    "cult_dict_list = soup_2_dict(cult_bf_lst)\n",
    "anti_cult_dict_list = soup_2_dict(anti_cult_bf_lst)"
   ]
  },
  {
   "cell_type": "code",
   "execution_count": null,
   "metadata": {
    "collapsed": true
   },
   "outputs": [],
   "source": []
  },
  {
   "cell_type": "code",
   "execution_count": 167,
   "metadata": {
    "collapsed": false
   },
   "outputs": [],
   "source": [
    "count = 0\n",
    "cult_critic_dict = {}\n",
    "for movie in cult_dict_list.keys():\n",
    "    for company in cult_dict_list[movie].keys():\n",
    "        try:\n",
    "            cult_critic_dict[cult_dict_list[movie][company][1]] += [cult_dict_list[movie][company][0]]\n",
    "        except:\n",
    "            cult_critic_dict[cult_dict_list[movie][company][1]] = [cult_dict_list[movie][company][0]]          "
   ]
  },
  {
   "cell_type": "code",
   "execution_count": 176,
   "metadata": {
    "collapsed": false
   },
   "outputs": [],
   "source": [
    "count = 0\n",
    "anti_cult_critic_dict = {}\n",
    "for movie in anti_cult_dict_list.keys():\n",
    "    for company in anti_cult_dict_list[movie].keys():\n",
    "        try:\n",
    "            anti_cult_critic_dict[anti_cult_dict_list[movie][company][1]] += [anti_cult_dict_list[movie][company][0]]\n",
    "        except:\n",
    "            anti_cult_critic_dict[anti_cult_dict_list[movie][company][1]] = [anti_cult_dict_list[movie][company][0]]    "
   ]
  },
  {
   "cell_type": "code",
   "execution_count": 183,
   "metadata": {
    "collapsed": false
   },
   "outputs": [],
   "source": [
    "cult_critic_df = pd.DataFrame(cult_critic_dict.items(), columns = ['critic', 'list_of_reviews'])\n",
    "anti_cult_critic_df = pd.DataFrame(anti_cult_critic_dict.items(), columns = ['critic', 'list_of_reviews'])"
   ]
  },
  {
   "cell_type": "code",
   "execution_count": 185,
   "metadata": {
    "collapsed": false
   },
   "outputs": [],
   "source": [
    "cult_critic_df['mean_review'] = cult_critic_df.list_of_reviews.apply(lambda x: np.mean(x))\n",
    "cult_critic_df['number_of_reviews'] = cult_critic_df.list_of_reviews.apply(lambda x: len(x))\n",
    "cult_critic_df['rating_metric_mean_div_num'] = cult_critic_df.number_of_reviews/cult_critic_df.mean_review"
   ]
  },
  {
   "cell_type": "code",
   "execution_count": 186,
   "metadata": {
    "collapsed": true
   },
   "outputs": [],
   "source": [
    "anti_cult_critic_df['mean_review'] = anti_cult_critic_df.list_of_reviews.apply(lambda x: np.mean(x))\n",
    "anti_cult_critic_df['number_of_reviews'] = anti_cult_critic_df.list_of_reviews.apply(lambda x: len(x))\n",
    "anti_cult_critic_df['rating_metric_mean_div_num'] = anti_cult_critic_df.number_of_reviews/anti_cult_critic_df.mean_review"
   ]
  },
  {
   "cell_type": "code",
   "execution_count": 187,
   "metadata": {
    "collapsed": false
   },
   "outputs": [
    {
     "name": "stderr",
     "output_type": "stream",
     "text": [
      "/Users/Fernanhid/anaconda/lib/python2.7/site-packages/ipykernel/__main__.py:1: FutureWarning: sort(columns=....) is deprecated, use sort_values(by=.....)\n",
      "  if __name__ == '__main__':\n"
     ]
    },
    {
     "data": {
      "text/html": [
       "<div>\n",
       "<table border=\"1\" class=\"dataframe\">\n",
       "  <thead>\n",
       "    <tr style=\"text-align: right;\">\n",
       "      <th></th>\n",
       "      <th>critic</th>\n",
       "      <th>list_of_reviews</th>\n",
       "      <th>mean_review</th>\n",
       "      <th>number_of_reviews</th>\n",
       "      <th>rating_metric_mean_div_num</th>\n",
       "    </tr>\n",
       "  </thead>\n",
       "  <tbody>\n",
       "    <tr>\n",
       "      <th>194</th>\n",
       "      <td>Calvin Wilson</td>\n",
       "      <td>[100, 100, 100, 88, 100, 100, 100, 88, 100, 88...</td>\n",
       "      <td>96.250000</td>\n",
       "      <td>16</td>\n",
       "      <td>0.166234</td>\n",
       "    </tr>\n",
       "    <tr>\n",
       "      <th>183</th>\n",
       "      <td>Ty Burr</td>\n",
       "      <td>[100, 88, 88, 100, 100, 100, 100, 100, 88, 100...</td>\n",
       "      <td>96.000000</td>\n",
       "      <td>18</td>\n",
       "      <td>0.187500</td>\n",
       "    </tr>\n",
       "    <tr>\n",
       "      <th>189</th>\n",
       "      <td>Andrew O'Hehir</td>\n",
       "      <td>[90, 100, 100, 90, 100, 100, 100, 90, 90, 100,...</td>\n",
       "      <td>95.555556</td>\n",
       "      <td>18</td>\n",
       "      <td>0.188372</td>\n",
       "    </tr>\n",
       "    <tr>\n",
       "      <th>140</th>\n",
       "      <td>Kenneth Turan</td>\n",
       "      <td>[100, 70, 100, 100, 100, 90, 100, 100, 100, 80...</td>\n",
       "      <td>95.555556</td>\n",
       "      <td>18</td>\n",
       "      <td>0.188372</td>\n",
       "    </tr>\n",
       "    <tr>\n",
       "      <th>204</th>\n",
       "      <td>Steven Rea</td>\n",
       "      <td>[100, 100, 88, 100, 88, 100, 88, 88, 100, 100,...</td>\n",
       "      <td>95.380952</td>\n",
       "      <td>21</td>\n",
       "      <td>0.220170</td>\n",
       "    </tr>\n",
       "    <tr>\n",
       "      <th>101</th>\n",
       "      <td>Michael Phillips</td>\n",
       "      <td>[100, 88, 88, 100, 100, 100, 88, 100, 88, 100,...</td>\n",
       "      <td>95.045455</td>\n",
       "      <td>22</td>\n",
       "      <td>0.231468</td>\n",
       "    </tr>\n",
       "    <tr>\n",
       "      <th>171</th>\n",
       "      <td>Steve Persall</td>\n",
       "      <td>[100, 100, 83, 100, 83, 75, 75, 100, 100, 100,...</td>\n",
       "      <td>94.750000</td>\n",
       "      <td>16</td>\n",
       "      <td>0.168865</td>\n",
       "    </tr>\n",
       "    <tr>\n",
       "      <th>99</th>\n",
       "      <td>Joe Morgenstern</td>\n",
       "      <td>[100, 70, 90, 80, 90, 100, 100, 100, 100, 100,...</td>\n",
       "      <td>93.809524</td>\n",
       "      <td>21</td>\n",
       "      <td>0.223858</td>\n",
       "    </tr>\n",
       "    <tr>\n",
       "      <th>34</th>\n",
       "      <td>Bill Goodykoontz</td>\n",
       "      <td>[100, 90, 90, 90, 100, 90, 100, 100, 90, 100, ...</td>\n",
       "      <td>92.352941</td>\n",
       "      <td>17</td>\n",
       "      <td>0.184076</td>\n",
       "    </tr>\n",
       "    <tr>\n",
       "      <th>12</th>\n",
       "      <td>Peter Travers</td>\n",
       "      <td>[88, 88, 88, 100, 100, 88, 88, 100, 88, 100, 1...</td>\n",
       "      <td>92.173913</td>\n",
       "      <td>23</td>\n",
       "      <td>0.249528</td>\n",
       "    </tr>\n",
       "    <tr>\n",
       "      <th>75</th>\n",
       "      <td>Ann Hornaday</td>\n",
       "      <td>[100, 75, 100, 100, 75, 100, 75, 100, 100, 88,...</td>\n",
       "      <td>91.791667</td>\n",
       "      <td>24</td>\n",
       "      <td>0.261462</td>\n",
       "    </tr>\n",
       "    <tr>\n",
       "      <th>63</th>\n",
       "      <td>Dana Stevens</td>\n",
       "      <td>[90, 80, 100, 100, 100, 100, 100, 100, 80, 70,...</td>\n",
       "      <td>91.176471</td>\n",
       "      <td>17</td>\n",
       "      <td>0.186452</td>\n",
       "    </tr>\n",
       "    <tr>\n",
       "      <th>103</th>\n",
       "      <td>Rene Rodriguez</td>\n",
       "      <td>[100, 88, 75, 100, 100, 100, 75, 88, 100, 50, ...</td>\n",
       "      <td>89.500000</td>\n",
       "      <td>20</td>\n",
       "      <td>0.223464</td>\n",
       "    </tr>\n",
       "    <tr>\n",
       "      <th>58</th>\n",
       "      <td>David Edelstein</td>\n",
       "      <td>[90, 100, 80, 60, 80, 100, 90, 100, 80, 70, 90...</td>\n",
       "      <td>87.826087</td>\n",
       "      <td>23</td>\n",
       "      <td>0.261881</td>\n",
       "    </tr>\n",
       "    <tr>\n",
       "      <th>163</th>\n",
       "      <td>Mick LaSalle</td>\n",
       "      <td>[50, 75, 100, 100, 100, 100, 100, 50, 75, 100,...</td>\n",
       "      <td>85.227273</td>\n",
       "      <td>22</td>\n",
       "      <td>0.258133</td>\n",
       "    </tr>\n",
       "    <tr>\n",
       "      <th>135</th>\n",
       "      <td>James Berardinelli</td>\n",
       "      <td>[88, 88, 88, 75, 88, 88, 88, 75, 75, 88, 75, 8...</td>\n",
       "      <td>84.388889</td>\n",
       "      <td>18</td>\n",
       "      <td>0.213298</td>\n",
       "    </tr>\n",
       "    <tr>\n",
       "      <th>45</th>\n",
       "      <td>Peter Rainer</td>\n",
       "      <td>[100, 75, 100, 91, 83, 91, 91, 100, 91, 100, 1...</td>\n",
       "      <td>83.904762</td>\n",
       "      <td>21</td>\n",
       "      <td>0.250284</td>\n",
       "    </tr>\n",
       "    <tr>\n",
       "      <th>57</th>\n",
       "      <td>Stephanie Zacharek</td>\n",
       "      <td>[40, 100, 60, 80, 95, 80, 50, 50, 100, 100, 10...</td>\n",
       "      <td>80.588235</td>\n",
       "      <td>17</td>\n",
       "      <td>0.210949</td>\n",
       "    </tr>\n",
       "  </tbody>\n",
       "</table>\n",
       "</div>"
      ],
      "text/plain": [
       "                 critic                                    list_of_reviews  \\\n",
       "194       Calvin Wilson  [100, 100, 100, 88, 100, 100, 100, 88, 100, 88...   \n",
       "183             Ty Burr  [100, 88, 88, 100, 100, 100, 100, 100, 88, 100...   \n",
       "189      Andrew O'Hehir  [90, 100, 100, 90, 100, 100, 100, 90, 90, 100,...   \n",
       "140       Kenneth Turan  [100, 70, 100, 100, 100, 90, 100, 100, 100, 80...   \n",
       "204          Steven Rea  [100, 100, 88, 100, 88, 100, 88, 88, 100, 100,...   \n",
       "101    Michael Phillips  [100, 88, 88, 100, 100, 100, 88, 100, 88, 100,...   \n",
       "171       Steve Persall  [100, 100, 83, 100, 83, 75, 75, 100, 100, 100,...   \n",
       "99      Joe Morgenstern  [100, 70, 90, 80, 90, 100, 100, 100, 100, 100,...   \n",
       "34     Bill Goodykoontz  [100, 90, 90, 90, 100, 90, 100, 100, 90, 100, ...   \n",
       "12        Peter Travers  [88, 88, 88, 100, 100, 88, 88, 100, 88, 100, 1...   \n",
       "75         Ann Hornaday  [100, 75, 100, 100, 75, 100, 75, 100, 100, 88,...   \n",
       "63         Dana Stevens  [90, 80, 100, 100, 100, 100, 100, 100, 80, 70,...   \n",
       "103      Rene Rodriguez  [100, 88, 75, 100, 100, 100, 75, 88, 100, 50, ...   \n",
       "58      David Edelstein  [90, 100, 80, 60, 80, 100, 90, 100, 80, 70, 90...   \n",
       "163        Mick LaSalle  [50, 75, 100, 100, 100, 100, 100, 50, 75, 100,...   \n",
       "135  James Berardinelli  [88, 88, 88, 75, 88, 88, 88, 75, 75, 88, 75, 8...   \n",
       "45         Peter Rainer  [100, 75, 100, 91, 83, 91, 91, 100, 91, 100, 1...   \n",
       "57   Stephanie Zacharek  [40, 100, 60, 80, 95, 80, 50, 50, 100, 100, 10...   \n",
       "\n",
       "     mean_review  number_of_reviews  rating_metric_mean_div_num  \n",
       "194    96.250000                 16                    0.166234  \n",
       "183    96.000000                 18                    0.187500  \n",
       "189    95.555556                 18                    0.188372  \n",
       "140    95.555556                 18                    0.188372  \n",
       "204    95.380952                 21                    0.220170  \n",
       "101    95.045455                 22                    0.231468  \n",
       "171    94.750000                 16                    0.168865  \n",
       "99     93.809524                 21                    0.223858  \n",
       "34     92.352941                 17                    0.184076  \n",
       "12     92.173913                 23                    0.249528  \n",
       "75     91.791667                 24                    0.261462  \n",
       "63     91.176471                 17                    0.186452  \n",
       "103    89.500000                 20                    0.223464  \n",
       "58     87.826087                 23                    0.261881  \n",
       "163    85.227273                 22                    0.258133  \n",
       "135    84.388889                 18                    0.213298  \n",
       "45     83.904762                 21                    0.250284  \n",
       "57     80.588235                 17                    0.210949  "
      ]
     },
     "execution_count": 187,
     "metadata": {},
     "output_type": "execute_result"
    }
   ],
   "source": [
    "cult_critic_df[cult_critic_df.number_of_reviews > 15].sort('mean_review', ascending = False)"
   ]
  },
  {
   "cell_type": "code",
   "execution_count": 192,
   "metadata": {
    "collapsed": false
   },
   "outputs": [
    {
     "name": "stderr",
     "output_type": "stream",
     "text": [
      "/Users/Fernanhid/anaconda/lib/python2.7/site-packages/ipykernel/__main__.py:1: FutureWarning: sort(columns=....) is deprecated, use sort_values(by=.....)\n",
      "  if __name__ == '__main__':\n"
     ]
    },
    {
     "data": {
      "text/html": [
       "<div>\n",
       "<table border=\"1\" class=\"dataframe\">\n",
       "  <thead>\n",
       "    <tr style=\"text-align: right;\">\n",
       "      <th></th>\n",
       "      <th>critic</th>\n",
       "      <th>list_of_reviews</th>\n",
       "      <th>mean_review</th>\n",
       "      <th>number_of_reviews</th>\n",
       "      <th>rating_metric_mean_div_num</th>\n",
       "    </tr>\n",
       "  </thead>\n",
       "  <tbody>\n",
       "    <tr>\n",
       "      <th>7</th>\n",
       "      <td>Lou Lumenick</td>\n",
       "      <td>[0, 0]</td>\n",
       "      <td>0.000000</td>\n",
       "      <td>2</td>\n",
       "      <td>inf</td>\n",
       "    </tr>\n",
       "    <tr>\n",
       "      <th>11</th>\n",
       "      <td>Marjorie Baumgarten</td>\n",
       "      <td>[11, 0]</td>\n",
       "      <td>5.500000</td>\n",
       "      <td>2</td>\n",
       "      <td>0.363636</td>\n",
       "    </tr>\n",
       "    <tr>\n",
       "      <th>19</th>\n",
       "      <td>Peter Travers</td>\n",
       "      <td>[0, 25]</td>\n",
       "      <td>12.500000</td>\n",
       "      <td>2</td>\n",
       "      <td>0.160000</td>\n",
       "    </tr>\n",
       "    <tr>\n",
       "      <th>5</th>\n",
       "      <td>Mark Jenkins</td>\n",
       "      <td>[5, 35]</td>\n",
       "      <td>20.000000</td>\n",
       "      <td>2</td>\n",
       "      <td>0.100000</td>\n",
       "    </tr>\n",
       "    <tr>\n",
       "      <th>56</th>\n",
       "      <td>A.O. Scott</td>\n",
       "      <td>[30, 10]</td>\n",
       "      <td>20.000000</td>\n",
       "      <td>2</td>\n",
       "      <td>0.100000</td>\n",
       "    </tr>\n",
       "    <tr>\n",
       "      <th>47</th>\n",
       "      <td>Scott Tobias</td>\n",
       "      <td>[16, 33]</td>\n",
       "      <td>24.500000</td>\n",
       "      <td>2</td>\n",
       "      <td>0.081633</td>\n",
       "    </tr>\n",
       "    <tr>\n",
       "      <th>29</th>\n",
       "      <td>Andrew Barker</td>\n",
       "      <td>[40, 10]</td>\n",
       "      <td>25.000000</td>\n",
       "      <td>2</td>\n",
       "      <td>0.080000</td>\n",
       "    </tr>\n",
       "    <tr>\n",
       "      <th>55</th>\n",
       "      <td>Rene Rodriguez</td>\n",
       "      <td>[25, 25]</td>\n",
       "      <td>25.000000</td>\n",
       "      <td>2</td>\n",
       "      <td>0.080000</td>\n",
       "    </tr>\n",
       "    <tr>\n",
       "      <th>48</th>\n",
       "      <td>Nick Schager</td>\n",
       "      <td>[30, 20]</td>\n",
       "      <td>25.000000</td>\n",
       "      <td>2</td>\n",
       "      <td>0.080000</td>\n",
       "    </tr>\n",
       "    <tr>\n",
       "      <th>1</th>\n",
       "      <td>Mike Scott</td>\n",
       "      <td>[38, 20]</td>\n",
       "      <td>29.000000</td>\n",
       "      <td>2</td>\n",
       "      <td>0.068966</td>\n",
       "    </tr>\n",
       "    <tr>\n",
       "      <th>62</th>\n",
       "      <td>Peter Rainer</td>\n",
       "      <td>[58, 0]</td>\n",
       "      <td>29.000000</td>\n",
       "      <td>2</td>\n",
       "      <td>0.068966</td>\n",
       "    </tr>\n",
       "    <tr>\n",
       "      <th>43</th>\n",
       "      <td>Claudia Puig</td>\n",
       "      <td>[25, 38]</td>\n",
       "      <td>31.500000</td>\n",
       "      <td>2</td>\n",
       "      <td>0.063492</td>\n",
       "    </tr>\n",
       "    <tr>\n",
       "      <th>49</th>\n",
       "      <td>Mick LaSalle</td>\n",
       "      <td>[50, 25]</td>\n",
       "      <td>37.500000</td>\n",
       "      <td>2</td>\n",
       "      <td>0.053333</td>\n",
       "    </tr>\n",
       "    <tr>\n",
       "      <th>45</th>\n",
       "      <td>Roger Moore</td>\n",
       "      <td>[38, 38]</td>\n",
       "      <td>38.000000</td>\n",
       "      <td>2</td>\n",
       "      <td>0.052632</td>\n",
       "    </tr>\n",
       "    <tr>\n",
       "      <th>32</th>\n",
       "      <td>Elizabeth Weitzman</td>\n",
       "      <td>[40, 40, 50]</td>\n",
       "      <td>43.333333</td>\n",
       "      <td>3</td>\n",
       "      <td>0.069231</td>\n",
       "    </tr>\n",
       "    <tr>\n",
       "      <th>44</th>\n",
       "      <td>Michael Phillips</td>\n",
       "      <td>[50, 50]</td>\n",
       "      <td>50.000000</td>\n",
       "      <td>2</td>\n",
       "      <td>0.040000</td>\n",
       "    </tr>\n",
       "    <tr>\n",
       "      <th>30</th>\n",
       "      <td>Owen Gleiberman</td>\n",
       "      <td>[75, 67]</td>\n",
       "      <td>71.000000</td>\n",
       "      <td>2</td>\n",
       "      <td>0.028169</td>\n",
       "    </tr>\n",
       "  </tbody>\n",
       "</table>\n",
       "</div>"
      ],
      "text/plain": [
       "                 critic list_of_reviews  mean_review  number_of_reviews  \\\n",
       "7          Lou Lumenick          [0, 0]     0.000000                  2   \n",
       "11  Marjorie Baumgarten         [11, 0]     5.500000                  2   \n",
       "19        Peter Travers         [0, 25]    12.500000                  2   \n",
       "5          Mark Jenkins         [5, 35]    20.000000                  2   \n",
       "56           A.O. Scott        [30, 10]    20.000000                  2   \n",
       "47         Scott Tobias        [16, 33]    24.500000                  2   \n",
       "29        Andrew Barker        [40, 10]    25.000000                  2   \n",
       "55       Rene Rodriguez        [25, 25]    25.000000                  2   \n",
       "48         Nick Schager        [30, 20]    25.000000                  2   \n",
       "1            Mike Scott        [38, 20]    29.000000                  2   \n",
       "62         Peter Rainer         [58, 0]    29.000000                  2   \n",
       "43         Claudia Puig        [25, 38]    31.500000                  2   \n",
       "49         Mick LaSalle        [50, 25]    37.500000                  2   \n",
       "45          Roger Moore        [38, 38]    38.000000                  2   \n",
       "32   Elizabeth Weitzman    [40, 40, 50]    43.333333                  3   \n",
       "44     Michael Phillips        [50, 50]    50.000000                  2   \n",
       "30      Owen Gleiberman        [75, 67]    71.000000                  2   \n",
       "\n",
       "    rating_metric_mean_div_num  \n",
       "7                          inf  \n",
       "11                    0.363636  \n",
       "19                    0.160000  \n",
       "5                     0.100000  \n",
       "56                    0.100000  \n",
       "47                    0.081633  \n",
       "29                    0.080000  \n",
       "55                    0.080000  \n",
       "48                    0.080000  \n",
       "1                     0.068966  \n",
       "62                    0.068966  \n",
       "43                    0.063492  \n",
       "49                    0.053333  \n",
       "45                    0.052632  \n",
       "32                    0.069231  \n",
       "44                    0.040000  \n",
       "30                    0.028169  "
      ]
     },
     "execution_count": 192,
     "metadata": {},
     "output_type": "execute_result"
    }
   ],
   "source": [
    "anti_cult_critic_df[anti_cult_critic_df.number_of_reviews > 1].sort('mean_review', ascending = True)"
   ]
  },
  {
   "cell_type": "markdown",
   "metadata": {
    "collapsed": true
   },
   "source": [
    "# Peter Travers!"
   ]
  },
  {
   "cell_type": "code",
   "execution_count": null,
   "metadata": {
    "collapsed": true
   },
   "outputs": [],
   "source": []
  }
 ],
 "metadata": {
  "kernelspec": {
   "display_name": "Python [default]",
   "language": "python",
   "name": "python2"
  },
  "language_info": {
   "codemirror_mode": {
    "name": "ipython",
    "version": 2
   },
   "file_extension": ".py",
   "mimetype": "text/x-python",
   "name": "python",
   "nbconvert_exporter": "python",
   "pygments_lexer": "ipython2",
   "version": "2.7.12"
  }
 },
 "nbformat": 4,
 "nbformat_minor": 0
}
