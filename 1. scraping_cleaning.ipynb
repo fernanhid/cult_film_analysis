{
 "cells": [
  {
   "cell_type": "code",
   "execution_count": 85,
   "metadata": {
    "collapsed": true
   },
   "outputs": [],
   "source": [
    "import pandas as pd\n",
    "from bs4 import BeautifulSoup as bf\n",
    "import requests\n",
    "import os\n",
    "from selenium import webdriver\n",
    "from selenium.webdriver.common.keys import Keys\n",
    "from selenium.webdriver.support.ui import Select\n",
    "from datetime import datetime"
   ]
  },
  {
   "cell_type": "code",
   "execution_count": 33,
   "metadata": {
    "collapsed": true
   },
   "outputs": [],
   "source": [
    "url_2005 = 'https://en.wikipedia.org/wiki/2005_in_film'\n",
    "url_2006 = 'https://en.wikipedia.org/wiki/2006_in_film'\n",
    "url_2007 = 'https://en.wikipedia.org/wiki/2007_in_film'\n",
    "url_2008 = 'https://en.wikipedia.org/wiki/2008_in_film'\n",
    "url_2009 = 'https://en.wikipedia.org/wiki/2009_in_film'\n",
    "url_2010 = 'https://en.wikipedia.org/wiki/2010_in_film'\n",
    "url_2011 = 'https://en.wikipedia.org/wiki/2011_in_film'\n",
    "url_2012 = 'https://en.wikipedia.org/wiki/2012_in_film'\n",
    "url_2013 = 'https://en.wikipedia.org/wiki/2013_in_film'\n",
    "url_2014 = 'https://en.wikipedia.org/wiki/20014_in_film'\n",
    "url_2015 = 'https://en.wikipedia.org/wiki/20015_in_film'"
   ]
  },
  {
   "cell_type": "code",
   "execution_count": 34,
   "metadata": {
    "collapsed": true
   },
   "outputs": [],
   "source": [
    "total_movies = []"
   ]
  },
  {
   "cell_type": "code",
   "execution_count": 38,
   "metadata": {
    "collapsed": false
   },
   "outputs": [],
   "source": [
    "wiki_list_2005 = bf(requests.get(url_2005).text)\n",
    "for  movie in wiki_list_2005.find_all('tr')[73:244]:\n",
    "    try:\n",
    "        total_movies.append(movie.a.text)\n",
    "    except:\n",
    "        pass\n",
    "    \n",
    "wiki_list_2006 = bf(requests.get(url_2006).text)\n",
    "for  movie in wiki_list_2006.find_all('tr')[77:273]:\n",
    "    try:\n",
    "        total_movies.append(movie.a.text)\n",
    "    except:\n",
    "        pass\n",
    "    \n",
    "wiki_list_2007 = bf(requests.get(url_2007).text)\n",
    "for  movie in wiki_list_2007.find_all('tr')[68:275]:\n",
    "    try:\n",
    "        total_movies.append(movie.a.text)\n",
    "    except:\n",
    "        pass\n",
    "    \n",
    "wiki_list_2008 = bf(requests.get(url_2008).text)\n",
    "for  movie in wiki_list_2008.find_all('tr')[94:295]:\n",
    "    try:\n",
    "        total_movies.append(movie.a.text)\n",
    "    except:\n",
    "        pass\n",
    "\n",
    "wiki_list_2009 = bf(requests.get(url_2009).text)\n",
    "for  movie in wiki_list_2009.find_all('tr')[59:359]:\n",
    "    try:\n",
    "        total_movies.append(movie.a.text)\n",
    "    except:\n",
    "        pass\n",
    "    \n",
    "wiki_list_2010 = bf(requests.get(url_2010).text)\n",
    "for  movie in wiki_list_2010.find_all('tr')[50:400]:\n",
    "    try:\n",
    "        total_movies.append(movie.a.text)\n",
    "    except:\n",
    "        pass\n",
    "    \n",
    "wiki_list_2011 = bf(requests.get(url_2011).text)\n",
    "for  movie in wiki_list_2011.find_all('tr')[50:282]:\n",
    "    try:\n",
    "        total_movies.append(movie.a.text)\n",
    "    except:\n",
    "        pass\n",
    "    \n",
    "    \n",
    "wiki_list_2012 = bf(requests.get(url_2012).text)\n",
    "for  movie in wiki_list_2012.find_all('tr')[50:324]:\n",
    "    try:\n",
    "        total_movies.append(movie.a.text)\n",
    "    except:\n",
    "        pass\n",
    "\n",
    "wiki_list_2013 = bf(requests.get(url_2013).text)\n",
    "for movie in wiki_list_2013.find_all('tr')[49:318]:\n",
    "    try:\n",
    "        total_movies.append(movie.a.text)\n",
    "    except:\n",
    "        pass\n",
    "    \n",
    "\n",
    "wiki_list_2014 = bf(requests.get(url_2014).text)\n",
    "for  movie in wiki_list_2014.find_all('tr')[84:367]:\n",
    "    try:\n",
    "        total_movies.append(movie.a.text)\n",
    "    except:\n",
    "        pass\n",
    "    \n",
    "\n",
    "    \n",
    "wiki_list_2015 = bf(requests.get(url_2015).text, 'lxml')\n",
    "for  movie in wiki_list_2015.find_all('tr')[85:421]:\n",
    "    try:\n",
    "        total_movies.append(movie.a.text)\n",
    "    except:\n",
    "        pass"
   ]
  },
  {
   "cell_type": "code",
   "execution_count": 39,
   "metadata": {
    "collapsed": false
   },
   "outputs": [
    {
     "data": {
      "text/plain": [
       "2325"
      ]
     },
     "execution_count": 39,
     "metadata": {},
     "output_type": "execute_result"
    }
   ],
   "source": [
    "len(total_movies)"
   ]
  },
  {
   "cell_type": "markdown",
   "metadata": {},
   "source": [
    "## Web Scraping The Top Movies of the Last 10 Years with Selenium"
   ]
  },
  {
   "cell_type": "code",
   "execution_count": null,
   "metadata": {
    "collapsed": false
   },
   "outputs": [],
   "source": [
    "#Having a Master Dictionary\n",
    "dict_movie = {}\n",
    "\n",
    "#Iterating over the urls\n",
    "for i, movie in enumerate(movie_x_ratings_df.movie_titles):\n",
    "    try:\n",
    "        #storing the content for each movie\n",
    "        dict_content = {}\n",
    "        #Iterating over all the content of the movie\n",
    "        for div in  urls[i].find('div', class_= 'article', id=\"titleDetails\").find_all('div'):\n",
    "            #Iterating Over Every part of the content\n",
    "            try:\n",
    "                #Preprosessing everyline\n",
    "                process =  div.text.replace('\\n', '').split(':')\n",
    "                #Seperating the title and value\n",
    "                key = process[0]\n",
    "                content = process[1]\n",
    "                #Adding the title and values in a dictionary\n",
    "                dict_content[key] = content\n",
    "            except:\n",
    "                pass\n",
    "    except:\n",
    "        pass\n",
    "    #Adding the content dictionary of one movie into the total dict\n",
    "    dict_movie[movie] = dict_content"
   ]
  },
  {
   "cell_type": "code",
   "execution_count": null,
   "metadata": {
    "collapsed": true
   },
   "outputs": [],
   "source": [
    "movie_titles = []\n",
    "ratings = []\n",
    "\n",
    "for i, title in enumerate(urls):\n",
    "    movie_titles.append(urls[i].title.text)\n",
    "    try:\n",
    "        ratings.append(int(title.find(href=\"criticreviews?ref_=tt_ov_rt\").text.replace('\\n', '').strip()))\n",
    "    except:\n",
    "        ratings.append('no rating')"
   ]
  },
  {
   "cell_type": "code",
   "execution_count": 52,
   "metadata": {
    "collapsed": false
   },
   "outputs": [],
   "source": [
    "#dataframe with the ratings and movie_titles\n",
    "movie_x_ratings_df = pd.DataFrame(dict(movie_titles = movie_titles, ratings = ratings))\n",
    "movie_x_ratings_df['movie_titles'] = [i.split(\" (\")[0] for i in movie_x_ratings_df.movie_titles]"
   ]
  },
  {
   "cell_type": "code",
   "execution_count": null,
   "metadata": {
    "collapsed": true
   },
   "outputs": [],
   "source": [
    "#Having a Master Dictionary\n",
    "dict_movie = {}\n",
    "\n",
    "#Iterating over the urls\n",
    "for i, movie in enumerate(movie_x_ratings_df.movie_titles):\n",
    "    try:\n",
    "        #storing the content for each movie\n",
    "        dict_content = {}\n",
    "        #Iterating over all the content of the movie\n",
    "        for div in  urls[i].find('div', class_= 'article', id=\"titleDetails\").find_all('div'):\n",
    "            #Iterating Over Every part of the content\n",
    "            try:\n",
    "                #Preprosessing everyline\n",
    "                process =  div.text.replace('\\n', '').split(':')\n",
    "                #Seperating the title and value\n",
    "                key = process[0]\n",
    "                content = process[1]\n",
    "                #Adding the title and values in a dictionary\n",
    "                dict_content[key] = content\n",
    "            except:\n",
    "                pass\n",
    "    except:\n",
    "        pass\n",
    "    #Adding the content dictionary of one movie into the total dict\n",
    "    dict_movie[movie] = dict_content"
   ]
  },
  {
   "cell_type": "markdown",
   "metadata": {},
   "source": [
    "# Cleaning to Put It in a Dataframe"
   ]
  },
  {
   "cell_type": "code",
   "execution_count": 59,
   "metadata": {
    "collapsed": true
   },
   "outputs": [],
   "source": [
    "# Getting the Gross Income\n",
    "gross = []\n",
    "for title in movie_x_ratings_df.movie_titles:\n",
    "    try:\n",
    "        gross.append(dict_movie[title]['Gross'])\n",
    "    except:\n",
    "        gross.append('NaN')\n",
    "        \n",
    "movie_x_ratings_df['gross'] = gross\n",
    "\n",
    "def clean_gross(gross_string):\n",
    "    try:\n",
    "        return int(gross_string.split('(')[0].strip().replace('$', '').replace(',',''))\n",
    "    except:\n",
    "        return gross_string\n",
    "movie_x_ratings_df['new_gross'] = movie_x_ratings_df.gross.apply(lambda x: clean_gross(x))"
   ]
  },
  {
   "cell_type": "code",
   "execution_count": 61,
   "metadata": {
    "collapsed": false
   },
   "outputs": [
    {
     "data": {
      "text/html": [
       "<div>\n",
       "<table border=\"1\" class=\"dataframe\">\n",
       "  <thead>\n",
       "    <tr style=\"text-align: right;\">\n",
       "      <th></th>\n",
       "      <th>movie_titles</th>\n",
       "      <th>ratings</th>\n",
       "      <th>gross</th>\n",
       "    </tr>\n",
       "  </thead>\n",
       "  <tbody>\n",
       "    <tr>\n",
       "      <th>0</th>\n",
       "      <td>Vaada (2005) - IMDb</td>\n",
       "      <td>no rating</td>\n",
       "      <td>NaN</td>\n",
       "    </tr>\n",
       "    <tr>\n",
       "      <th>1</th>\n",
       "      <td>White Noise (2005) - IMDb</td>\n",
       "      <td>30</td>\n",
       "      <td>$55,865,715              (USA)(18 Febr...</td>\n",
       "    </tr>\n",
       "    <tr>\n",
       "      <th>2</th>\n",
       "      <td>Fetching Cody (2005) - IMDb</td>\n",
       "      <td>no rating</td>\n",
       "      <td>NaN</td>\n",
       "    </tr>\n",
       "    <tr>\n",
       "      <th>3</th>\n",
       "      <td>Cages (2006) - IMDb</td>\n",
       "      <td>no rating</td>\n",
       "      <td>NaN</td>\n",
       "    </tr>\n",
       "    <tr>\n",
       "      <th>4</th>\n",
       "      <td>Coach Carter (2005) - IMDb</td>\n",
       "      <td>57</td>\n",
       "      <td>$67,253,092              (USA)(29 Apri...</td>\n",
       "    </tr>\n",
       "  </tbody>\n",
       "</table>\n",
       "</div>"
      ],
      "text/plain": [
       "                  movie_titles    ratings  \\\n",
       "0          Vaada (2005) - IMDb  no rating   \n",
       "1    White Noise (2005) - IMDb         30   \n",
       "2  Fetching Cody (2005) - IMDb  no rating   \n",
       "3          Cages (2006) - IMDb  no rating   \n",
       "4   Coach Carter (2005) - IMDb         57   \n",
       "\n",
       "                                               gross  \n",
       "0                                                NaN  \n",
       "1          $55,865,715              (USA)(18 Febr...  \n",
       "2                                                NaN  \n",
       "3                                                NaN  \n",
       "4          $67,253,092              (USA)(29 Apri...  "
      ]
     },
     "execution_count": 61,
     "metadata": {},
     "output_type": "execute_result"
    }
   ],
   "source": [
    "movie_x_ratings_df.head()"
   ]
  },
  {
   "cell_type": "code",
   "execution_count": null,
   "metadata": {
    "collapsed": true
   },
   "outputs": [],
   "source": [
    "# Ratings\n",
    "\n",
    "def ratings_gross(ratings_string):\n",
    "    try:\n",
    "        return int(ratings_string)\n",
    "    except:\n",
    "        return ratings_string\n",
    "\n",
    "movie_x_ratings_df['ratings'] = movie_x_ratings_df['ratings'].apply(lambda x: ratings_gross(x))\n",
    "clean_data = movie_x_ratings_df[movie_x_ratings_df.ratings != 'no rating'][movie_x_ratings_df.new_gross != 'NaN']"
   ]
  },
  {
   "cell_type": "code",
   "execution_count": null,
   "metadata": {
    "collapsed": true
   },
   "outputs": [],
   "source": [
    "# Release Date\n",
    "release_date = []\n",
    "for title in movie_x_ratings_df.movie_titles:\n",
    "    try:\n",
    "        release_date.append(dict_movie[title]['Release Date'])\n",
    "    except:\n",
    "        release_date.append('NaN')\n",
    "        \n",
    "movie_x_ratings_df['release_date'] = release_date\n",
    "release_date = []\n",
    "for title in movie_x_ratings_df.movie_titles:\n",
    "    try:\n",
    "        release_date.append(dict_movie[title]['Release Date'])\n",
    "    except:\n",
    "        release_date.append('NaN')\n",
    "        \n",
    "movie_x_ratings_df['release_date'] = release_date\n",
    "movie_x_ratings_df['new_date'] = movie_x_ratings_df['release_date'].apply(lambda x: clean_release(x).encode('ascii', 'ignore').decode('ascii'))"
   ]
  },
  {
   "cell_type": "code",
   "execution_count": null,
   "metadata": {
    "collapsed": true
   },
   "outputs": [],
   "source": [
    "#Opening Weekend\n",
    "opening_weekend = []\n",
    "for title in movie_x_ratings_df.movie_titles:\n",
    "    try:\n",
    "        opening_weekend.append(dict_movie[title]['Opening Weekend'])\n",
    "    except:\n",
    "        opening_weekend.append('NaN')\n",
    "        \n",
    "movie_x_ratings_df['opening_weekend'] = opening_weekend\n",
    "movie_x_ratings_df['new_opening_weekend'] = movie_x_ratings_df['opening_weekend'].apply(lambda x: clean_gross(x))"
   ]
  },
  {
   "cell_type": "code",
   "execution_count": null,
   "metadata": {
    "collapsed": true
   },
   "outputs": [],
   "source": [
    "#Runtime\n",
    "run_time = []\n",
    "for title in movie_x_ratings_df.movie_titles:\n",
    "    try:\n",
    "        run_time.append(dict_movie[title]['Runtime'])\n",
    "    except:\n",
    "        run_time.append('NaN')\n",
    "        \n",
    "movie_x_ratings_df['run_time'] = run_time\n",
    "\n",
    "def clean_runtime(data_string, value = False):\n",
    "    if value == False:\n",
    "        try:\n",
    "            return int(data_string.strip().split()[0])\n",
    "        except:\n",
    "            return data_string\n",
    "    elif value == True:\n",
    "        try:\n",
    "            return datetime.timedelta(minutes = int(data_string.strip().split()[0]))\n",
    "        except:\n",
    "            return data_string\n",
    "        \n",
    "movie_x_ratings_df['runtime_in_minutes'] = movie_x_ratings_df.run_time.apply(lambda x: clean_runtime(x).encode('ascii', 'ignore').decode('ascii'))"
   ]
  },
  {
   "cell_type": "code",
   "execution_count": null,
   "metadata": {
    "collapsed": true
   },
   "outputs": [],
   "source": [
    "# Production Companies\n",
    "prod_companies = []\n",
    "for title in movie_x_ratings_df.movie_titles:\n",
    "    try:\n",
    "        prod_companies.append(dict_movie[title]['Production Co'])\n",
    "    except:\n",
    "        prod_companies.append('NaN')\n",
    "        \n",
    "movie_x_ratings_df['production'] = prod_companies\n",
    "\n",
    "def clean_prod_companies(string_):\n",
    "    return [x.strip().encode('ascii', 'ignore').decode('ascii') for x in string_.split('S')[0].split(',')]\n",
    "\n",
    "movie_x_ratings_df['new_production_cos'] = movie_x_ratings_df.production.apply(lambda x: clean_prod_companies(x))"
   ]
  },
  {
   "cell_type": "code",
   "execution_count": null,
   "metadata": {
    "collapsed": true
   },
   "outputs": [],
   "source": [
    "# RunTime\n",
    "\n",
    "run_time = []\n",
    "for title in movie_x_ratings_df.movie_titles:\n",
    "    try:\n",
    "        run_time.append(dict_movie[title]['Runtime'])\n",
    "    except:\n",
    "        run_time.append('NaN')\n",
    "        \n",
    "movie_x_ratings_df['run_time'] = run_time\n",
    "\n",
    "def clean_runtime(data_string, value = False):\n",
    "    if value == False:\n",
    "        try:\n",
    "            return int(data_string.strip().split()[0])\n",
    "        except:\n",
    "            return data_string\n",
    "    elif value == True:\n",
    "        try:\n",
    "            return datetime.timedelta(minutes = int(data_string.strip().split()[0]))\n",
    "        except:\n",
    "            return data_string\n",
    "        \n",
    "movie_x_ratings_df['runtime_in_minutes'] = movie_x_ratings_df.run_time.apply(lambda x: clean_runtime(x))"
   ]
  },
  {
   "cell_type": "code",
   "execution_count": null,
   "metadata": {
    "collapsed": true
   },
   "outputs": [],
   "source": [
    "final_file = movie_x_ratings_df[['movie_titles', \n",
    "                                 'ratings',\n",
    "                                 'new_gross', \n",
    "                                 'release_date', \n",
    "                                 'new_opening_weekend', \n",
    "                                 'runtime_in_minutes', \n",
    "                                 'new_production_cos']]"
   ]
  },
  {
   "cell_type": "code",
   "execution_count": 92,
   "metadata": {
    "collapsed": false
   },
   "outputs": [
    {
     "data": {
      "text/html": [
       "<div>\n",
       "<table border=\"1\" class=\"dataframe\">\n",
       "  <thead>\n",
       "    <tr style=\"text-align: right;\">\n",
       "      <th></th>\n",
       "      <th>movie_titles</th>\n",
       "      <th>ratings</th>\n",
       "      <th>new_gross</th>\n",
       "      <th>release_date</th>\n",
       "      <th>new_opening_weekend</th>\n",
       "      <th>runtime_in_minutes</th>\n",
       "      <th>new_production_cos</th>\n",
       "    </tr>\n",
       "  </thead>\n",
       "  <tbody>\n",
       "    <tr>\n",
       "      <th>0</th>\n",
       "      <td>The Devil Inside</td>\n",
       "      <td>18</td>\n",
       "      <td>53245055</td>\n",
       "      <td>6 January 2012 (USA)    See more</td>\n",
       "      <td>33732515</td>\n",
       "      <td>83</td>\n",
       "      <td>[Prototype, Room 101]</td>\n",
       "    </tr>\n",
       "    <tr>\n",
       "      <th>1</th>\n",
       "      <td>Humanoids from the Deep</td>\n",
       "      <td>no rating</td>\n",
       "      <td>NaN</td>\n",
       "      <td>May 1980 (USA)    See more</td>\n",
       "      <td>NaN</td>\n",
       "      <td>80</td>\n",
       "      <td>[New World Pictures]</td>\n",
       "    </tr>\n",
       "    <tr>\n",
       "      <th>2</th>\n",
       "      <td>Noruwei no mori</td>\n",
       "      <td>58</td>\n",
       "      <td>13068</td>\n",
       "      <td>11 December 2010 (Japan)    See more</td>\n",
       "      <td>13068</td>\n",
       "      <td>133</td>\n",
       "      <td>[Asmik Ace Entertainment, Dentsu, Fuji Televis...</td>\n",
       "    </tr>\n",
       "    <tr>\n",
       "      <th>3</th>\n",
       "      <td>Contraband</td>\n",
       "      <td>51</td>\n",
       "      <td>66489425</td>\n",
       "      <td>13 January 2012 (USA)    See more</td>\n",
       "      <td>24349815</td>\n",
       "      <td>109</td>\n",
       "      <td>[Universal Pictures, Relativity Media, Working...</td>\n",
       "    </tr>\n",
       "    <tr>\n",
       "      <th>4</th>\n",
       "      <td>Joyful Noise</td>\n",
       "      <td>44</td>\n",
       "      <td>30920167</td>\n",
       "      <td>13 January 2012 (USA)    See more</td>\n",
       "      <td>11225190</td>\n",
       "      <td>NaN</td>\n",
       "      <td>[Alcon Entertainment, Farrell Paura Production...</td>\n",
       "    </tr>\n",
       "  </tbody>\n",
       "</table>\n",
       "</div>"
      ],
      "text/plain": [
       "              movie_titles    ratings new_gross  \\\n",
       "0         The Devil Inside         18  53245055   \n",
       "1  Humanoids from the Deep  no rating       NaN   \n",
       "2          Noruwei no mori         58     13068   \n",
       "3               Contraband         51  66489425   \n",
       "4             Joyful Noise         44  30920167   \n",
       "\n",
       "                                release_date new_opening_weekend  \\\n",
       "0       6 January 2012 (USA)    See more                33732515   \n",
       "1             May 1980 (USA)    See more                     NaN   \n",
       "2   11 December 2010 (Japan)    See more                   13068   \n",
       "3      13 January 2012 (USA)    See more                24349815   \n",
       "4      13 January 2012 (USA)    See more                11225190   \n",
       "\n",
       "  runtime_in_minutes                                 new_production_cos  \n",
       "0                 83                              [Prototype, Room 101]  \n",
       "1                 80                               [New World Pictures]  \n",
       "2                133  [Asmik Ace Entertainment, Dentsu, Fuji Televis...  \n",
       "3                109  [Universal Pictures, Relativity Media, Working...  \n",
       "4                NaN  [Alcon Entertainment, Farrell Paura Production...  "
      ]
     },
     "execution_count": 92,
     "metadata": {},
     "output_type": "execute_result"
    }
   ],
   "source": [
    "final_file.head()"
   ]
  },
  {
   "cell_type": "code",
   "execution_count": null,
   "metadata": {
    "collapsed": true
   },
   "outputs": [],
   "source": [
    "final_file.to_pickle('movies_df_2005-2015.pkl')"
   ]
  }
 ],
 "metadata": {
  "anaconda-cloud": {},
  "kernelspec": {
   "display_name": "Python [conda env:datasci27]",
   "language": "python",
   "name": "conda-env-datasci27-py"
  },
  "language_info": {
   "codemirror_mode": {
    "name": "ipython",
    "version": 2
   },
   "file_extension": ".py",
   "mimetype": "text/x-python",
   "name": "python",
   "nbconvert_exporter": "python",
   "pygments_lexer": "ipython2",
   "version": "2.7.12"
  }
 },
 "nbformat": 4,
 "nbformat_minor": 1
}
